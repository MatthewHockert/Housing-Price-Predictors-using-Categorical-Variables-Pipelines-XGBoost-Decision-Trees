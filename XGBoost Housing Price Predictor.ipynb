{
 "cells": [
  {
   "cell_type": "markdown",
   "metadata": {},
   "source": [
    "# Housing Price Predictor"
   ]
  },
  {
   "cell_type": "markdown",
   "metadata": {},
   "source": [
    "This repository is built off of the ML training course on Kaggle. The data I use in this repository is mine and is pulled from an API. It is built from the Decision Trees MN Housing Price Predictor Repository. The Data in this repository is slightly altered to work with missing values and categorical variables.\n",
    "\n",
    "Here is what I have learned from the course:\n",
    "\n",
    "1. missing values categorical variables\n",
    "2. pipelines\n",
    "3. cross-validation\n",
    "4. XGBoost"
   ]
  },
  {
   "cell_type": "code",
   "execution_count": 71,
   "metadata": {},
   "outputs": [],
   "source": [
    "import pandas as pd\n",
    "import numpy as np\n",
    "\n",
    "import json\n",
    "import requests"
   ]
  },
  {
   "cell_type": "markdown",
   "metadata": {},
   "source": [
    "Housing API - Removed the url and key. ALl can be found at Realty rapidAPI.com\n",
    "import requests\n",
    "\n",
    "url = \n",
    "\n",
    "querystring = {\"city\":\"Minneapolis\",\"state_code\":\"MN\",\"offset\":\"0\",\"limit\":\"200\",\"sort\":\"relevance\",\"radius\":\"20\",\"age_min\":\"1990\",\"age_max\":\"2020\",\"baths_min\":\"2\",\"beds_min\":\"2\",\"price_min\":\"300000\"}\n",
    "\n",
    "headers = {\n",
    "    'x-rapidapi-key': \n",
    "    'x-rapidapi-host': \"realty-in-us.p.rapidapi.com\"\n",
    "    }\n",
    "\n",
    "response = requests.request(\"GET\", url, headers=headers, params=querystring)\n",
    "\n",
    "print(response.text)\n",
    "\n",
    "import json\n",
    "\n",
    "json_data = json.loads(response.text)\n",
    "\n",
    "readable_file = 'readable_realty_data.json'\n",
    "with open(readable_file, 'w') as f:\n",
    "    json.dump(json_data, f, indent=4)"
   ]
  },
  {
   "cell_type": "code",
   "execution_count": 5,
   "metadata": {},
   "outputs": [
    {
     "name": "stdout",
     "output_type": "stream",
     "text": [
      "200\n"
     ]
    }
   ],
   "source": [
    "#Explore structure of the data\n",
    "filename = 'readable_realty_data.json'\n",
    "with open(filename) as f:\n",
    "    readable_realty_data = json.load(f)\n",
    "\n",
    "readable_realty_data = readable_realty_data['properties']\n",
    "print(len(readable_realty_data))"
   ]
  },
  {
   "cell_type": "code",
   "execution_count": 6,
   "metadata": {},
   "outputs": [],
   "source": [
    "#extracting the data\n",
    "prop_ids, urls, cities, lines, postal_codes, counties, lats, lons, prices, baths_fulls, bedrooms, building_sizes, lot_sizes  =[],[],[],[], [], [], [], [],[],[], [], [], []\n",
    "\n",
    "\n",
    "for data in readable_realty_data:\n",
    "    prop_id = data['property_id']\n",
    "    url = data['rdc_web_url']\n",
    "    city = data['address']['city']\n",
    "    line = data['address']['line']   \n",
    "    postal_code = data['address']['postal_code']\n",
    "    county = data['address']['county']\n",
    "    lat = data['address']['lat']\n",
    "    lon = data['address']['lon']\n",
    "    price = data['price']\n",
    "    baths_full = data['baths_full']\n",
    "    bedroom = data['beds']\n",
    "    building_size = data['building_size']['size']\n",
    "    lot_size = data['lot_size']['size']\n",
    "    \n",
    "    \n",
    "    \n",
    "    prop_ids.append(prop_id)\n",
    "    urls.append(url)\n",
    "    cities.append(city)\n",
    "    lines.append(line)\n",
    "    postal_codes.append(postal_code)\n",
    "    counties.append(county)\n",
    "    lats.append(lat)\n",
    "    lons.append(lon)\n",
    "    prices.append(price)\n",
    "    baths_fulls.append(baths_full)\n",
    "    bedrooms.append(bedroom)\n",
    "    building_sizes.append(building_size)\n",
    "    lot_sizes.append(lot_size)"
   ]
  },
  {
   "cell_type": "code",
   "execution_count": 7,
   "metadata": {},
   "outputs": [],
   "source": [
    "# converting json dataset from dictionary to dataframe\n",
    "df = pd.DataFrame([prop_ids,urls,cities,lines, postal_codes, counties, lats, lons, prices,baths_fulls, bedrooms, building_sizes, lot_sizes]).T\n",
    "df = df.rename(columns = {0:'prop_ids',1:'urls',2:'cities',3:'lines', 4:'postal_codes', 5:'counties', 6:'lats', 7:'lons', 8:'prices', 9:'baths_fulls',10:'bedrooms',11:'building_sizes', 12:'lot_sizes'})\n",
    "\n"
   ]
  },
  {
   "cell_type": "code",
   "execution_count": 8,
   "metadata": {},
   "outputs": [
    {
     "data": {
      "text/html": [
       "<div>\n",
       "<style scoped>\n",
       "    .dataframe tbody tr th:only-of-type {\n",
       "        vertical-align: middle;\n",
       "    }\n",
       "\n",
       "    .dataframe tbody tr th {\n",
       "        vertical-align: top;\n",
       "    }\n",
       "\n",
       "    .dataframe thead th {\n",
       "        text-align: right;\n",
       "    }\n",
       "</style>\n",
       "<table border=\"1\" class=\"dataframe\">\n",
       "  <thead>\n",
       "    <tr style=\"text-align: right;\">\n",
       "      <th></th>\n",
       "      <th>prop_ids</th>\n",
       "      <th>urls</th>\n",
       "      <th>cities</th>\n",
       "      <th>lines</th>\n",
       "      <th>postal_codes</th>\n",
       "      <th>counties</th>\n",
       "      <th>lats</th>\n",
       "      <th>lons</th>\n",
       "      <th>prices</th>\n",
       "      <th>baths_fulls</th>\n",
       "      <th>bedrooms</th>\n",
       "      <th>building_sizes</th>\n",
       "      <th>lot_sizes</th>\n",
       "    </tr>\n",
       "  </thead>\n",
       "  <tbody>\n",
       "    <tr>\n",
       "      <th>0</th>\n",
       "      <td>M7927081518</td>\n",
       "      <td>https://www.realtor.com/realestateandhomes-det...</td>\n",
       "      <td>Saint Paul</td>\n",
       "      <td>79 Cretin Ave N</td>\n",
       "      <td>55104</td>\n",
       "      <td>Ramsey</td>\n",
       "      <td>44.944</td>\n",
       "      <td>-93.1928</td>\n",
       "      <td>600000</td>\n",
       "      <td>2</td>\n",
       "      <td>4</td>\n",
       "      <td>3143</td>\n",
       "      <td>14375</td>\n",
       "    </tr>\n",
       "    <tr>\n",
       "      <th>1</th>\n",
       "      <td>M8412373846</td>\n",
       "      <td>https://www.realtor.com/realestateandhomes-det...</td>\n",
       "      <td>Minneapolis</td>\n",
       "      <td>1716 Tyler St NE</td>\n",
       "      <td>55413</td>\n",
       "      <td>Hennepin</td>\n",
       "      <td>45.0055</td>\n",
       "      <td>-93.2465</td>\n",
       "      <td>475000</td>\n",
       "      <td>3</td>\n",
       "      <td>5</td>\n",
       "      <td>2448</td>\n",
       "      <td>8276</td>\n",
       "    </tr>\n",
       "    <tr>\n",
       "      <th>2</th>\n",
       "      <td>M7324092858</td>\n",
       "      <td>https://www.realtor.com/realestateandhomes-det...</td>\n",
       "      <td>Eagan</td>\n",
       "      <td>2094 Quartz Ln</td>\n",
       "      <td>55122</td>\n",
       "      <td>Dakota</td>\n",
       "      <td>44.8001</td>\n",
       "      <td>-93.2149</td>\n",
       "      <td>324900</td>\n",
       "      <td>2</td>\n",
       "      <td>4</td>\n",
       "      <td>1620</td>\n",
       "      <td>9017</td>\n",
       "    </tr>\n",
       "    <tr>\n",
       "      <th>3</th>\n",
       "      <td>M8405448159</td>\n",
       "      <td>https://www.realtor.com/realestateandhomes-det...</td>\n",
       "      <td>Robbinsdale</td>\n",
       "      <td>3628 Regent Ave N</td>\n",
       "      <td>55422</td>\n",
       "      <td>Hennepin</td>\n",
       "      <td>45.0214</td>\n",
       "      <td>-93.3437</td>\n",
       "      <td>314999</td>\n",
       "      <td>2</td>\n",
       "      <td>4</td>\n",
       "      <td>2255</td>\n",
       "      <td>5227</td>\n",
       "    </tr>\n",
       "    <tr>\n",
       "      <th>4</th>\n",
       "      <td>M8627783588</td>\n",
       "      <td>https://www.realtor.com/realestateandhomes-det...</td>\n",
       "      <td>Saint Louis Park</td>\n",
       "      <td>2732 Joppa Ave S</td>\n",
       "      <td>55416</td>\n",
       "      <td>Hennepin</td>\n",
       "      <td>44.9531</td>\n",
       "      <td>-93.3345</td>\n",
       "      <td>649900</td>\n",
       "      <td>3</td>\n",
       "      <td>3</td>\n",
       "      <td>2571</td>\n",
       "      <td>6098</td>\n",
       "    </tr>\n",
       "  </tbody>\n",
       "</table>\n",
       "</div>"
      ],
      "text/plain": [
       "      prop_ids                                               urls  \\\n",
       "0  M7927081518  https://www.realtor.com/realestateandhomes-det...   \n",
       "1  M8412373846  https://www.realtor.com/realestateandhomes-det...   \n",
       "2  M7324092858  https://www.realtor.com/realestateandhomes-det...   \n",
       "3  M8405448159  https://www.realtor.com/realestateandhomes-det...   \n",
       "4  M8627783588  https://www.realtor.com/realestateandhomes-det...   \n",
       "\n",
       "             cities              lines postal_codes  counties     lats  \\\n",
       "0        Saint Paul    79 Cretin Ave N        55104    Ramsey   44.944   \n",
       "1       Minneapolis   1716 Tyler St NE        55413  Hennepin  45.0055   \n",
       "2             Eagan     2094 Quartz Ln        55122    Dakota  44.8001   \n",
       "3       Robbinsdale  3628 Regent Ave N        55422  Hennepin  45.0214   \n",
       "4  Saint Louis Park   2732 Joppa Ave S        55416  Hennepin  44.9531   \n",
       "\n",
       "      lons  prices baths_fulls bedrooms building_sizes lot_sizes  \n",
       "0 -93.1928  600000           2        4           3143     14375  \n",
       "1 -93.2465  475000           3        5           2448      8276  \n",
       "2 -93.2149  324900           2        4           1620      9017  \n",
       "3 -93.3437  314999           2        4           2255      5227  \n",
       "4 -93.3345  649900           3        3           2571      6098  "
      ]
     },
     "execution_count": 8,
     "metadata": {},
     "output_type": "execute_result"
    }
   ],
   "source": [
    "df.head()"
   ]
  },
  {
   "cell_type": "code",
   "execution_count": 9,
   "metadata": {},
   "outputs": [],
   "source": [
    "#Exporting the Pandas file into CSV to remove some missing values\n",
    "#I recommend creating missing data in an excel file and saving as a CSV\n",
    "\n",
    "df.to_csv(r'/Users/matthewhockert/Desktop/personal_python_projects/XGBoost Housing price.csv', index = False)"
   ]
  },
  {
   "cell_type": "code",
   "execution_count": 10,
   "metadata": {},
   "outputs": [
    {
     "name": "stdout",
     "output_type": "stream",
     "text": [
      "        prop_ids                                               urls  \\\n",
      "0    M7927081518  https://www.realtor.com/realestateandhomes-det...   \n",
      "1    M8412373846  https://www.realtor.com/realestateandhomes-det...   \n",
      "2    M7324092858  https://www.realtor.com/realestateandhomes-det...   \n",
      "3    M8405448159  https://www.realtor.com/realestateandhomes-det...   \n",
      "4    M8627783588  https://www.realtor.com/realestateandhomes-det...   \n",
      "..           ...                                                ...   \n",
      "195  M8648754867  https://www.realtor.com/realestateandhomes-det...   \n",
      "196  M8495826109  https://www.realtor.com/realestateandhomes-det...   \n",
      "197  M7820115149  https://www.realtor.com/realestateandhomes-det...   \n",
      "198  M8145996706  https://www.realtor.com/realestateandhomes-det...   \n",
      "199  M8152976290  https://www.realtor.com/realestateandhomes-det...   \n",
      "\n",
      "               cities               lines  postal_codes  counties       lats  \\\n",
      "0          Saint Paul     79 Cretin Ave N         55104    Ramsey  44.944009   \n",
      "1         Minneapolis    1716 Tyler St NE         55413  Hennepin  45.005543   \n",
      "2               Eagan      2094 Quartz Ln         55122    Dakota  44.800149   \n",
      "3         Robbinsdale   3628 Regent Ave N         55422  Hennepin  45.021414   \n",
      "4    Saint Louis Park    2732 Joppa Ave S         55416  Hennepin  44.953099   \n",
      "..                ...                 ...           ...       ...        ...   \n",
      "195       Bloomington         7914 Lea Rd         55438  Hennepin  44.859210   \n",
      "196       Minneapolis      3240 5th Ave S         55408  Hennepin  44.943568   \n",
      "197       Bloomington  8825 Penn Lake Cir         55431  Hennepin  44.843431   \n",
      "198         Maplewood    1358 Kohlman Ave         55109    Ramsey  45.022212   \n",
      "199   Mendota Heights    916 Chippewa Ave         55118    Dakota  44.919100   \n",
      "\n",
      "          lons  prices  baths_fulls  bedrooms  building_sizes  lot_sizes  \n",
      "0   -93.192846  600000          2.0       4.0          3143.0      14375  \n",
      "1   -93.246466  475000          3.0       5.0          2448.0       8276  \n",
      "2   -93.214939  324900          2.0       4.0          1620.0       9017  \n",
      "3   -93.343719  314999          2.0       4.0          2255.0       5227  \n",
      "4   -93.334462  649900          3.0       3.0          2571.0       6098  \n",
      "..         ...     ...          ...       ...             ...        ...  \n",
      "195 -93.378421  549900          3.0       4.0          2182.0      18731  \n",
      "196 -93.269335  699900          3.0       NaN          2400.0       5663  \n",
      "197 -93.306631  429000          NaN       3.0          2200.0      10890  \n",
      "198 -93.043225  400000          2.0       4.0          2578.0      23261  \n",
      "199 -93.106598  449000          3.0       4.0          2173.0      12197  \n",
      "\n",
      "[200 rows x 13 columns]\n"
     ]
    }
   ],
   "source": [
    "#Importing the now edited data\n",
    "\n",
    "df = pd.read_csv (r'/Users/matthewhockert/Desktop/personal_python_projects/housing.csv')\n",
    "print (df)"
   ]
  },
  {
   "cell_type": "code",
   "execution_count": 11,
   "metadata": {},
   "outputs": [
    {
     "data": {
      "text/html": [
       "<div>\n",
       "<style scoped>\n",
       "    .dataframe tbody tr th:only-of-type {\n",
       "        vertical-align: middle;\n",
       "    }\n",
       "\n",
       "    .dataframe tbody tr th {\n",
       "        vertical-align: top;\n",
       "    }\n",
       "\n",
       "    .dataframe thead th {\n",
       "        text-align: right;\n",
       "    }\n",
       "</style>\n",
       "<table border=\"1\" class=\"dataframe\">\n",
       "  <thead>\n",
       "    <tr style=\"text-align: right;\">\n",
       "      <th></th>\n",
       "      <th>prop_ids</th>\n",
       "      <th>urls</th>\n",
       "      <th>cities</th>\n",
       "      <th>lines</th>\n",
       "      <th>postal_codes</th>\n",
       "      <th>counties</th>\n",
       "      <th>lats</th>\n",
       "      <th>lons</th>\n",
       "      <th>prices</th>\n",
       "      <th>baths_fulls</th>\n",
       "      <th>bedrooms</th>\n",
       "      <th>building_sizes</th>\n",
       "      <th>lot_sizes</th>\n",
       "    </tr>\n",
       "  </thead>\n",
       "  <tbody>\n",
       "    <tr>\n",
       "      <th>0</th>\n",
       "      <td>M7927081518</td>\n",
       "      <td>https://www.realtor.com/realestateandhomes-det...</td>\n",
       "      <td>Saint Paul</td>\n",
       "      <td>79 Cretin Ave N</td>\n",
       "      <td>55104</td>\n",
       "      <td>Ramsey</td>\n",
       "      <td>44.944009</td>\n",
       "      <td>-93.192846</td>\n",
       "      <td>600000</td>\n",
       "      <td>2.0</td>\n",
       "      <td>4.0</td>\n",
       "      <td>3143.0</td>\n",
       "      <td>14375</td>\n",
       "    </tr>\n",
       "    <tr>\n",
       "      <th>1</th>\n",
       "      <td>M8412373846</td>\n",
       "      <td>https://www.realtor.com/realestateandhomes-det...</td>\n",
       "      <td>Minneapolis</td>\n",
       "      <td>1716 Tyler St NE</td>\n",
       "      <td>55413</td>\n",
       "      <td>Hennepin</td>\n",
       "      <td>45.005543</td>\n",
       "      <td>-93.246466</td>\n",
       "      <td>475000</td>\n",
       "      <td>3.0</td>\n",
       "      <td>5.0</td>\n",
       "      <td>2448.0</td>\n",
       "      <td>8276</td>\n",
       "    </tr>\n",
       "    <tr>\n",
       "      <th>2</th>\n",
       "      <td>M7324092858</td>\n",
       "      <td>https://www.realtor.com/realestateandhomes-det...</td>\n",
       "      <td>Eagan</td>\n",
       "      <td>2094 Quartz Ln</td>\n",
       "      <td>55122</td>\n",
       "      <td>Dakota</td>\n",
       "      <td>44.800149</td>\n",
       "      <td>-93.214939</td>\n",
       "      <td>324900</td>\n",
       "      <td>2.0</td>\n",
       "      <td>4.0</td>\n",
       "      <td>1620.0</td>\n",
       "      <td>9017</td>\n",
       "    </tr>\n",
       "    <tr>\n",
       "      <th>3</th>\n",
       "      <td>M8405448159</td>\n",
       "      <td>https://www.realtor.com/realestateandhomes-det...</td>\n",
       "      <td>Robbinsdale</td>\n",
       "      <td>3628 Regent Ave N</td>\n",
       "      <td>55422</td>\n",
       "      <td>Hennepin</td>\n",
       "      <td>45.021414</td>\n",
       "      <td>-93.343719</td>\n",
       "      <td>314999</td>\n",
       "      <td>2.0</td>\n",
       "      <td>4.0</td>\n",
       "      <td>2255.0</td>\n",
       "      <td>5227</td>\n",
       "    </tr>\n",
       "    <tr>\n",
       "      <th>4</th>\n",
       "      <td>M8627783588</td>\n",
       "      <td>https://www.realtor.com/realestateandhomes-det...</td>\n",
       "      <td>Saint Louis Park</td>\n",
       "      <td>2732 Joppa Ave S</td>\n",
       "      <td>55416</td>\n",
       "      <td>Hennepin</td>\n",
       "      <td>44.953099</td>\n",
       "      <td>-93.334462</td>\n",
       "      <td>649900</td>\n",
       "      <td>3.0</td>\n",
       "      <td>3.0</td>\n",
       "      <td>2571.0</td>\n",
       "      <td>6098</td>\n",
       "    </tr>\n",
       "  </tbody>\n",
       "</table>\n",
       "</div>"
      ],
      "text/plain": [
       "      prop_ids                                               urls  \\\n",
       "0  M7927081518  https://www.realtor.com/realestateandhomes-det...   \n",
       "1  M8412373846  https://www.realtor.com/realestateandhomes-det...   \n",
       "2  M7324092858  https://www.realtor.com/realestateandhomes-det...   \n",
       "3  M8405448159  https://www.realtor.com/realestateandhomes-det...   \n",
       "4  M8627783588  https://www.realtor.com/realestateandhomes-det...   \n",
       "\n",
       "             cities              lines  postal_codes  counties       lats  \\\n",
       "0        Saint Paul    79 Cretin Ave N         55104    Ramsey  44.944009   \n",
       "1       Minneapolis   1716 Tyler St NE         55413  Hennepin  45.005543   \n",
       "2             Eagan     2094 Quartz Ln         55122    Dakota  44.800149   \n",
       "3       Robbinsdale  3628 Regent Ave N         55422  Hennepin  45.021414   \n",
       "4  Saint Louis Park   2732 Joppa Ave S         55416  Hennepin  44.953099   \n",
       "\n",
       "        lons  prices  baths_fulls  bedrooms  building_sizes  lot_sizes  \n",
       "0 -93.192846  600000          2.0       4.0          3143.0      14375  \n",
       "1 -93.246466  475000          3.0       5.0          2448.0       8276  \n",
       "2 -93.214939  324900          2.0       4.0          1620.0       9017  \n",
       "3 -93.343719  314999          2.0       4.0          2255.0       5227  \n",
       "4 -93.334462  649900          3.0       3.0          2571.0       6098  "
      ]
     },
     "execution_count": 11,
     "metadata": {},
     "output_type": "execute_result"
    }
   ],
   "source": [
    "df.head()"
   ]
  },
  {
   "cell_type": "code",
   "execution_count": 74,
   "metadata": {},
   "outputs": [
    {
     "data": {
      "text/html": [
       "<div>\n",
       "<style scoped>\n",
       "    .dataframe tbody tr th:only-of-type {\n",
       "        vertical-align: middle;\n",
       "    }\n",
       "\n",
       "    .dataframe tbody tr th {\n",
       "        vertical-align: top;\n",
       "    }\n",
       "\n",
       "    .dataframe thead th {\n",
       "        text-align: right;\n",
       "    }\n",
       "</style>\n",
       "<table border=\"1\" class=\"dataframe\">\n",
       "  <thead>\n",
       "    <tr style=\"text-align: right;\">\n",
       "      <th></th>\n",
       "      <th>prop_ids</th>\n",
       "      <th>urls</th>\n",
       "      <th>cities</th>\n",
       "      <th>lines</th>\n",
       "      <th>postal_codes</th>\n",
       "      <th>counties</th>\n",
       "      <th>lats</th>\n",
       "      <th>lons</th>\n",
       "      <th>prices</th>\n",
       "      <th>baths_fulls</th>\n",
       "      <th>bedrooms</th>\n",
       "      <th>building_sizes</th>\n",
       "      <th>lot_sizes</th>\n",
       "    </tr>\n",
       "  </thead>\n",
       "  <tbody>\n",
       "    <tr>\n",
       "      <th>0</th>\n",
       "      <td>False</td>\n",
       "      <td>False</td>\n",
       "      <td>False</td>\n",
       "      <td>False</td>\n",
       "      <td>False</td>\n",
       "      <td>False</td>\n",
       "      <td>False</td>\n",
       "      <td>False</td>\n",
       "      <td>False</td>\n",
       "      <td>False</td>\n",
       "      <td>False</td>\n",
       "      <td>False</td>\n",
       "      <td>False</td>\n",
       "    </tr>\n",
       "    <tr>\n",
       "      <th>1</th>\n",
       "      <td>False</td>\n",
       "      <td>False</td>\n",
       "      <td>False</td>\n",
       "      <td>False</td>\n",
       "      <td>False</td>\n",
       "      <td>False</td>\n",
       "      <td>False</td>\n",
       "      <td>False</td>\n",
       "      <td>False</td>\n",
       "      <td>False</td>\n",
       "      <td>False</td>\n",
       "      <td>False</td>\n",
       "      <td>False</td>\n",
       "    </tr>\n",
       "    <tr>\n",
       "      <th>2</th>\n",
       "      <td>False</td>\n",
       "      <td>False</td>\n",
       "      <td>False</td>\n",
       "      <td>False</td>\n",
       "      <td>False</td>\n",
       "      <td>False</td>\n",
       "      <td>False</td>\n",
       "      <td>False</td>\n",
       "      <td>False</td>\n",
       "      <td>False</td>\n",
       "      <td>False</td>\n",
       "      <td>False</td>\n",
       "      <td>False</td>\n",
       "    </tr>\n",
       "    <tr>\n",
       "      <th>3</th>\n",
       "      <td>False</td>\n",
       "      <td>False</td>\n",
       "      <td>False</td>\n",
       "      <td>False</td>\n",
       "      <td>False</td>\n",
       "      <td>False</td>\n",
       "      <td>False</td>\n",
       "      <td>False</td>\n",
       "      <td>False</td>\n",
       "      <td>False</td>\n",
       "      <td>False</td>\n",
       "      <td>False</td>\n",
       "      <td>False</td>\n",
       "    </tr>\n",
       "    <tr>\n",
       "      <th>4</th>\n",
       "      <td>False</td>\n",
       "      <td>False</td>\n",
       "      <td>False</td>\n",
       "      <td>False</td>\n",
       "      <td>False</td>\n",
       "      <td>False</td>\n",
       "      <td>False</td>\n",
       "      <td>False</td>\n",
       "      <td>False</td>\n",
       "      <td>False</td>\n",
       "      <td>False</td>\n",
       "      <td>False</td>\n",
       "      <td>False</td>\n",
       "    </tr>\n",
       "    <tr>\n",
       "      <th>...</th>\n",
       "      <td>...</td>\n",
       "      <td>...</td>\n",
       "      <td>...</td>\n",
       "      <td>...</td>\n",
       "      <td>...</td>\n",
       "      <td>...</td>\n",
       "      <td>...</td>\n",
       "      <td>...</td>\n",
       "      <td>...</td>\n",
       "      <td>...</td>\n",
       "      <td>...</td>\n",
       "      <td>...</td>\n",
       "      <td>...</td>\n",
       "    </tr>\n",
       "    <tr>\n",
       "      <th>195</th>\n",
       "      <td>False</td>\n",
       "      <td>False</td>\n",
       "      <td>False</td>\n",
       "      <td>False</td>\n",
       "      <td>False</td>\n",
       "      <td>False</td>\n",
       "      <td>False</td>\n",
       "      <td>False</td>\n",
       "      <td>False</td>\n",
       "      <td>False</td>\n",
       "      <td>False</td>\n",
       "      <td>False</td>\n",
       "      <td>False</td>\n",
       "    </tr>\n",
       "    <tr>\n",
       "      <th>196</th>\n",
       "      <td>False</td>\n",
       "      <td>False</td>\n",
       "      <td>False</td>\n",
       "      <td>False</td>\n",
       "      <td>False</td>\n",
       "      <td>False</td>\n",
       "      <td>False</td>\n",
       "      <td>False</td>\n",
       "      <td>False</td>\n",
       "      <td>False</td>\n",
       "      <td>True</td>\n",
       "      <td>False</td>\n",
       "      <td>False</td>\n",
       "    </tr>\n",
       "    <tr>\n",
       "      <th>197</th>\n",
       "      <td>False</td>\n",
       "      <td>False</td>\n",
       "      <td>False</td>\n",
       "      <td>False</td>\n",
       "      <td>False</td>\n",
       "      <td>False</td>\n",
       "      <td>False</td>\n",
       "      <td>False</td>\n",
       "      <td>False</td>\n",
       "      <td>True</td>\n",
       "      <td>False</td>\n",
       "      <td>False</td>\n",
       "      <td>False</td>\n",
       "    </tr>\n",
       "    <tr>\n",
       "      <th>198</th>\n",
       "      <td>False</td>\n",
       "      <td>False</td>\n",
       "      <td>False</td>\n",
       "      <td>False</td>\n",
       "      <td>False</td>\n",
       "      <td>False</td>\n",
       "      <td>False</td>\n",
       "      <td>False</td>\n",
       "      <td>False</td>\n",
       "      <td>False</td>\n",
       "      <td>False</td>\n",
       "      <td>False</td>\n",
       "      <td>False</td>\n",
       "    </tr>\n",
       "    <tr>\n",
       "      <th>199</th>\n",
       "      <td>False</td>\n",
       "      <td>False</td>\n",
       "      <td>False</td>\n",
       "      <td>False</td>\n",
       "      <td>False</td>\n",
       "      <td>False</td>\n",
       "      <td>False</td>\n",
       "      <td>False</td>\n",
       "      <td>False</td>\n",
       "      <td>False</td>\n",
       "      <td>False</td>\n",
       "      <td>False</td>\n",
       "      <td>False</td>\n",
       "    </tr>\n",
       "  </tbody>\n",
       "</table>\n",
       "<p>200 rows × 13 columns</p>\n",
       "</div>"
      ],
      "text/plain": [
       "     prop_ids   urls  cities  lines  postal_codes  counties   lats   lons  \\\n",
       "0       False  False   False  False         False     False  False  False   \n",
       "1       False  False   False  False         False     False  False  False   \n",
       "2       False  False   False  False         False     False  False  False   \n",
       "3       False  False   False  False         False     False  False  False   \n",
       "4       False  False   False  False         False     False  False  False   \n",
       "..        ...    ...     ...    ...           ...       ...    ...    ...   \n",
       "195     False  False   False  False         False     False  False  False   \n",
       "196     False  False   False  False         False     False  False  False   \n",
       "197     False  False   False  False         False     False  False  False   \n",
       "198     False  False   False  False         False     False  False  False   \n",
       "199     False  False   False  False         False     False  False  False   \n",
       "\n",
       "     prices  baths_fulls  bedrooms  building_sizes  lot_sizes  \n",
       "0     False        False     False           False      False  \n",
       "1     False        False     False           False      False  \n",
       "2     False        False     False           False      False  \n",
       "3     False        False     False           False      False  \n",
       "4     False        False     False           False      False  \n",
       "..      ...          ...       ...             ...        ...  \n",
       "195   False        False     False           False      False  \n",
       "196   False        False      True           False      False  \n",
       "197   False         True     False           False      False  \n",
       "198   False        False     False           False      False  \n",
       "199   False        False     False           False      False  \n",
       "\n",
       "[200 rows x 13 columns]"
      ]
     },
     "execution_count": 74,
     "metadata": {},
     "output_type": "execute_result"
    }
   ],
   "source": [
    "df.isnull()"
   ]
  },
  {
   "cell_type": "markdown",
   "metadata": {},
   "source": [
    "# Correlation Matrix"
   ]
  },
  {
   "cell_type": "code",
   "execution_count": 79,
   "metadata": {},
   "outputs": [
    {
     "data": {
      "image/png": "[encoded data removed]",
      "text/plain": [
       "<Figure size 432x288 with 2 Axes>"
      ]
     },
     "metadata": {
      "needs_background": "light"
     },
     "output_type": "display_data"
    }
   ],
   "source": [
    "#This is for fun - in econometrics it is typically very important to look for covariance. \n",
    "#Here in the ML world I am finding this to be less important.\n",
    "\n",
    "import seaborn as sns\n",
    "\n",
    "corr = df.corr()\n",
    "ax = sns.heatmap(\n",
    "    corr, \n",
    "    vmin=-1, vmax=1, center=0,\n",
    "    cmap=sns.diverging_palette(20, 220, n=200),\n",
    "    square=True\n",
    ")\n",
    "ax.set_xticklabels(\n",
    "    ax.get_xticklabels(),\n",
    "    rotation=45,\n",
    "    horizontalalignment='right'\n",
    ");"
   ]
  },
  {
   "cell_type": "markdown",
   "metadata": {},
   "source": [
    "# Missing values"
   ]
  },
  {
   "cell_type": "markdown",
   "metadata": {},
   "source": [
    "Three approaches:\n",
    "1. Delete column\n",
    "2. Imputation (the averaging of the non-missing data in the column and placing it in the missing cell)\n",
    "3. Imputation but adding another categorical column stating whether the cell was imputed or not.\n",
    "\n",
    "In my classes we rarely did this. I believe if the values were not missing a significant quantity of data we would run regressions by dropping the data or row. If the cell was missing a larger portion of the data we wouldn't use the data. However, these techniques are interesting and as I suspected somewhat popular within the industry."
   ]
  },
  {
   "cell_type": "code",
   "execution_count": 14,
   "metadata": {},
   "outputs": [],
   "source": [
    "from sklearn.model_selection import train_test_split\n",
    "\n",
    "#dependent variable\n",
    "y = df.prices\n",
    "\n",
    "#independent variables\n",
    "features = ['baths_fulls','bedrooms','building_sizes','lot_sizes']\n",
    "X = df[features]\n",
    "\n",
    "#validation\n",
    "train_X, val_X, train_y, val_y = train_test_split(X, y, random_state = 1)"
   ]
  },
  {
   "cell_type": "code",
   "execution_count": 15,
   "metadata": {},
   "outputs": [
    {
     "data": {
      "text/plain": [
       "baths_fulls       float64\n",
       "bedrooms          float64\n",
       "building_sizes    float64\n",
       "lot_sizes           int64\n",
       "dtype: object"
      ]
     },
     "execution_count": 15,
     "metadata": {},
     "output_type": "execute_result"
    }
   ],
   "source": [
    "train_X.dtypes"
   ]
  },
  {
   "cell_type": "code",
   "execution_count": 16,
   "metadata": {},
   "outputs": [],
   "source": [
    "#Delete column\n",
    "\n",
    "from sklearn.ensemble import RandomForestRegressor\n",
    "from sklearn.metrics import mean_absolute_error\n",
    "\n",
    "# Function for comparing different approaches\n",
    "def score_dataset(train_X, val_X, train_y, val_y):\n",
    "    model = RandomForestRegressor(n_estimators=10, random_state=0)\n",
    "    model.fit(train_X, train_y)\n",
    "    preds = model.predict(val_X)\n",
    "    return mean_absolute_error(val_y, preds)"
   ]
  },
  {
   "cell_type": "code",
   "execution_count": 17,
   "metadata": {},
   "outputs": [
    {
     "name": "stdout",
     "output_type": "stream",
     "text": [
      "MAE from Approach 1 (Drop columns with missing values):\n",
      "185553.64417032205\n"
     ]
    }
   ],
   "source": [
    "# Get names of columns with missing values\n",
    "cols_with_missing = [col for col in train_X.columns\n",
    "                     if train_X[col].isnull().any()]\n",
    "\n",
    "# Drop columns in training and validation data\n",
    "reduced_X_train = train_X.drop(cols_with_missing, axis=1)\n",
    "reduced_X_valid = val_X.drop(cols_with_missing, axis=1)\n",
    "\n",
    "print(\"MAE from Approach 1 (Drop columns with missing values):\")\n",
    "print(score_dataset(reduced_X_train, reduced_X_valid, train_y, val_y))"
   ]
  },
  {
   "cell_type": "code",
   "execution_count": 18,
   "metadata": {},
   "outputs": [
    {
     "name": "stdout",
     "output_type": "stream",
     "text": [
      "MAE from Approach 2 (Imputation):\n",
      "133832.794\n"
     ]
    }
   ],
   "source": [
    "#Imputation\n",
    "\n",
    "from sklearn.impute import SimpleImputer\n",
    "\n",
    "# Imputation - averaging the values\n",
    "my_imputer = SimpleImputer()\n",
    "#Preprocessing the data\n",
    "imputed_X_train = pd.DataFrame(my_imputer.fit_transform(train_X))\n",
    "imputed_X_valid = pd.DataFrame(my_imputer.transform(val_X))\n",
    "\n",
    "# Imputation removed column names; put them back\n",
    "imputed_X_train.columns = train_X.columns\n",
    "imputed_X_valid.columns = val_X.columns\n",
    "\n",
    "print(\"MAE from Approach 2 (Imputation):\")\n",
    "print(score_dataset(imputed_X_train, imputed_X_valid, train_y, val_y))"
   ]
  },
  {
   "cell_type": "code",
   "execution_count": 19,
   "metadata": {},
   "outputs": [
    {
     "name": "stdout",
     "output_type": "stream",
     "text": [
      "MAE from Approach 3 (An Extension to Imputation):\n",
      "134648.794\n"
     ]
    }
   ],
   "source": [
    "#Imputation plus categorical column\n",
    "# Make copy to avoid changing original data (when imputing)\n",
    "X_train_plus = train_X.copy()\n",
    "X_valid_plus = val_X.copy()\n",
    "\n",
    "# Make new columns indicating what will be imputed\n",
    "for col in cols_with_missing:\n",
    "    X_train_plus[col + '_was_missing'] = X_train_plus[col].isnull()\n",
    "    X_valid_plus[col + '_was_missing'] = X_valid_plus[col].isnull()\n",
    "\n",
    "# Imputation\n",
    "my_imputer = SimpleImputer()\n",
    "imputed_X_train_plus = pd.DataFrame(my_imputer.fit_transform(X_train_plus))\n",
    "imputed_X_valid_plus = pd.DataFrame(my_imputer.transform(X_valid_plus))\n",
    "\n",
    "# Imputation removed column names; put them back\n",
    "imputed_X_train_plus.columns = X_train_plus.columns\n",
    "imputed_X_valid_plus.columns = X_valid_plus.columns\n",
    "\n",
    "print(\"MAE from Approach 3 (An Extension to Imputation):\")\n",
    "print(score_dataset(imputed_X_train_plus, imputed_X_valid_plus, train_y, val_y))"
   ]
  },
  {
   "cell_type": "markdown",
   "metadata": {},
   "source": [
    "The second approach proved to be the best approach. This is kind of obvious because we do not eliminate large quantity of data like in the first approach. The third approach did well but simply does not perform as well as the second."
   ]
  },
  {
   "cell_type": "markdown",
   "metadata": {},
   "source": [
    "# Categorical Variables\n"
   ]
  },
  {
   "cell_type": "markdown",
   "metadata": {},
   "source": [
    "This section of the training includes and explanation of ordinal and nominal variables. Ordinal seems to work best when their is an intrinsic scale of value such as neutral, good, great would follow 0,1,2. Nominal would work best with this dataset as the categorical values don't seem to be better but instead should be encoded to a specific number and the algorithm finds the value. In this example I'll use counties."
   ]
  },
  {
   "cell_type": "code",
   "execution_count": 61,
   "metadata": {},
   "outputs": [
    {
     "name": "stdout",
     "output_type": "stream",
     "text": [
      "        prop_ids                                               urls  \\\n",
      "0    M7927081518  https://www.realtor.com/realestateandhomes-det...   \n",
      "1    M8412373846  https://www.realtor.com/realestateandhomes-det...   \n",
      "2    M7324092858  https://www.realtor.com/realestateandhomes-det...   \n",
      "3    M8405448159  https://www.realtor.com/realestateandhomes-det...   \n",
      "4    M8627783588  https://www.realtor.com/realestateandhomes-det...   \n",
      "..           ...                                                ...   \n",
      "195  M8648754867  https://www.realtor.com/realestateandhomes-det...   \n",
      "196  M8495826109  https://www.realtor.com/realestateandhomes-det...   \n",
      "197  M7820115149  https://www.realtor.com/realestateandhomes-det...   \n",
      "198  M8145996706  https://www.realtor.com/realestateandhomes-det...   \n",
      "199  M8152976290  https://www.realtor.com/realestateandhomes-det...   \n",
      "\n",
      "               cities               lines  postal_codes  counties       lats  \\\n",
      "0          Saint Paul     79 Cretin Ave N         55104    Ramsey  44.944009   \n",
      "1         Minneapolis    1716 Tyler St NE         55413  Hennepin  45.005543   \n",
      "2               Eagan      2094 Quartz Ln         55122    Dakota  44.800149   \n",
      "3         Robbinsdale   3628 Regent Ave N         55422  Hennepin  45.021414   \n",
      "4    Saint Louis Park    2732 Joppa Ave S         55416  Hennepin  44.953099   \n",
      "..                ...                 ...           ...       ...        ...   \n",
      "195       Bloomington         7914 Lea Rd         55438  Hennepin  44.859210   \n",
      "196       Minneapolis      3240 5th Ave S         55408  Hennepin  44.943568   \n",
      "197       Bloomington  8825 Penn Lake Cir         55431  Hennepin  44.843431   \n",
      "198         Maplewood    1358 Kohlman Ave         55109    Ramsey  45.022212   \n",
      "199   Mendota Heights    916 Chippewa Ave         55118    Dakota  44.919100   \n",
      "\n",
      "          lons  prices  baths_fulls  bedrooms  building_sizes  lot_sizes  \n",
      "0   -93.192846  600000            2         4            3143      14375  \n",
      "1   -93.246466  475000            3         5            2448       8276  \n",
      "2   -93.214939  324900            2         4            1620       9017  \n",
      "3   -93.343719  314999            2         4            2255       5227  \n",
      "4   -93.334462  649900            3         3            2571       6098  \n",
      "..         ...     ...          ...       ...             ...        ...  \n",
      "195 -93.378421  549900            3         4            2182      18731  \n",
      "196 -93.269335  699900            3         5            2400       5663  \n",
      "197 -93.306631  429000            2         3            2200      10890  \n",
      "198 -93.043225  400000            2         4            2578      23261  \n",
      "199 -93.106598  449000            3         4            2173      12197  \n",
      "\n",
      "[200 rows x 13 columns]\n"
     ]
    }
   ],
   "source": [
    "#Importing none missing data\n",
    "\n",
    "#df = pd.read_csv (r'/Users/matthewhockert/Desktop/personal_python_projects/XGBoost.csv')\n",
    "#print (df)"
   ]
  },
  {
   "cell_type": "code",
   "execution_count": 64,
   "metadata": {},
   "outputs": [
    {
     "data": {
      "text/html": [
       "<div>\n",
       "<style scoped>\n",
       "    .dataframe tbody tr th:only-of-type {\n",
       "        vertical-align: middle;\n",
       "    }\n",
       "\n",
       "    .dataframe tbody tr th {\n",
       "        vertical-align: top;\n",
       "    }\n",
       "\n",
       "    .dataframe thead th {\n",
       "        text-align: right;\n",
       "    }\n",
       "</style>\n",
       "<table border=\"1\" class=\"dataframe\">\n",
       "  <thead>\n",
       "    <tr style=\"text-align: right;\">\n",
       "      <th></th>\n",
       "      <th>prop_ids</th>\n",
       "      <th>urls</th>\n",
       "      <th>cities</th>\n",
       "      <th>lines</th>\n",
       "      <th>postal_codes</th>\n",
       "      <th>counties</th>\n",
       "      <th>lats</th>\n",
       "      <th>lons</th>\n",
       "      <th>prices</th>\n",
       "      <th>baths_fulls</th>\n",
       "      <th>bedrooms</th>\n",
       "      <th>building_sizes</th>\n",
       "      <th>lot_sizes</th>\n",
       "    </tr>\n",
       "  </thead>\n",
       "  <tbody>\n",
       "    <tr>\n",
       "      <th>0</th>\n",
       "      <td>False</td>\n",
       "      <td>False</td>\n",
       "      <td>False</td>\n",
       "      <td>False</td>\n",
       "      <td>False</td>\n",
       "      <td>False</td>\n",
       "      <td>False</td>\n",
       "      <td>False</td>\n",
       "      <td>False</td>\n",
       "      <td>False</td>\n",
       "      <td>False</td>\n",
       "      <td>False</td>\n",
       "      <td>False</td>\n",
       "    </tr>\n",
       "    <tr>\n",
       "      <th>1</th>\n",
       "      <td>False</td>\n",
       "      <td>False</td>\n",
       "      <td>False</td>\n",
       "      <td>False</td>\n",
       "      <td>False</td>\n",
       "      <td>False</td>\n",
       "      <td>False</td>\n",
       "      <td>False</td>\n",
       "      <td>False</td>\n",
       "      <td>False</td>\n",
       "      <td>False</td>\n",
       "      <td>False</td>\n",
       "      <td>False</td>\n",
       "    </tr>\n",
       "    <tr>\n",
       "      <th>2</th>\n",
       "      <td>False</td>\n",
       "      <td>False</td>\n",
       "      <td>False</td>\n",
       "      <td>False</td>\n",
       "      <td>False</td>\n",
       "      <td>False</td>\n",
       "      <td>False</td>\n",
       "      <td>False</td>\n",
       "      <td>False</td>\n",
       "      <td>False</td>\n",
       "      <td>False</td>\n",
       "      <td>False</td>\n",
       "      <td>False</td>\n",
       "    </tr>\n",
       "    <tr>\n",
       "      <th>3</th>\n",
       "      <td>False</td>\n",
       "      <td>False</td>\n",
       "      <td>False</td>\n",
       "      <td>False</td>\n",
       "      <td>False</td>\n",
       "      <td>False</td>\n",
       "      <td>False</td>\n",
       "      <td>False</td>\n",
       "      <td>False</td>\n",
       "      <td>False</td>\n",
       "      <td>False</td>\n",
       "      <td>False</td>\n",
       "      <td>False</td>\n",
       "    </tr>\n",
       "    <tr>\n",
       "      <th>4</th>\n",
       "      <td>False</td>\n",
       "      <td>False</td>\n",
       "      <td>False</td>\n",
       "      <td>False</td>\n",
       "      <td>False</td>\n",
       "      <td>False</td>\n",
       "      <td>False</td>\n",
       "      <td>False</td>\n",
       "      <td>False</td>\n",
       "      <td>False</td>\n",
       "      <td>False</td>\n",
       "      <td>False</td>\n",
       "      <td>False</td>\n",
       "    </tr>\n",
       "    <tr>\n",
       "      <th>...</th>\n",
       "      <td>...</td>\n",
       "      <td>...</td>\n",
       "      <td>...</td>\n",
       "      <td>...</td>\n",
       "      <td>...</td>\n",
       "      <td>...</td>\n",
       "      <td>...</td>\n",
       "      <td>...</td>\n",
       "      <td>...</td>\n",
       "      <td>...</td>\n",
       "      <td>...</td>\n",
       "      <td>...</td>\n",
       "      <td>...</td>\n",
       "    </tr>\n",
       "    <tr>\n",
       "      <th>195</th>\n",
       "      <td>False</td>\n",
       "      <td>False</td>\n",
       "      <td>False</td>\n",
       "      <td>False</td>\n",
       "      <td>False</td>\n",
       "      <td>False</td>\n",
       "      <td>False</td>\n",
       "      <td>False</td>\n",
       "      <td>False</td>\n",
       "      <td>False</td>\n",
       "      <td>False</td>\n",
       "      <td>False</td>\n",
       "      <td>False</td>\n",
       "    </tr>\n",
       "    <tr>\n",
       "      <th>196</th>\n",
       "      <td>False</td>\n",
       "      <td>False</td>\n",
       "      <td>False</td>\n",
       "      <td>False</td>\n",
       "      <td>False</td>\n",
       "      <td>False</td>\n",
       "      <td>False</td>\n",
       "      <td>False</td>\n",
       "      <td>False</td>\n",
       "      <td>False</td>\n",
       "      <td>False</td>\n",
       "      <td>False</td>\n",
       "      <td>False</td>\n",
       "    </tr>\n",
       "    <tr>\n",
       "      <th>197</th>\n",
       "      <td>False</td>\n",
       "      <td>False</td>\n",
       "      <td>False</td>\n",
       "      <td>False</td>\n",
       "      <td>False</td>\n",
       "      <td>False</td>\n",
       "      <td>False</td>\n",
       "      <td>False</td>\n",
       "      <td>False</td>\n",
       "      <td>False</td>\n",
       "      <td>False</td>\n",
       "      <td>False</td>\n",
       "      <td>False</td>\n",
       "    </tr>\n",
       "    <tr>\n",
       "      <th>198</th>\n",
       "      <td>False</td>\n",
       "      <td>False</td>\n",
       "      <td>False</td>\n",
       "      <td>False</td>\n",
       "      <td>False</td>\n",
       "      <td>False</td>\n",
       "      <td>False</td>\n",
       "      <td>False</td>\n",
       "      <td>False</td>\n",
       "      <td>False</td>\n",
       "      <td>False</td>\n",
       "      <td>False</td>\n",
       "      <td>False</td>\n",
       "    </tr>\n",
       "    <tr>\n",
       "      <th>199</th>\n",
       "      <td>False</td>\n",
       "      <td>False</td>\n",
       "      <td>False</td>\n",
       "      <td>False</td>\n",
       "      <td>False</td>\n",
       "      <td>False</td>\n",
       "      <td>False</td>\n",
       "      <td>False</td>\n",
       "      <td>False</td>\n",
       "      <td>False</td>\n",
       "      <td>False</td>\n",
       "      <td>False</td>\n",
       "      <td>False</td>\n",
       "    </tr>\n",
       "  </tbody>\n",
       "</table>\n",
       "<p>200 rows × 13 columns</p>\n",
       "</div>"
      ],
      "text/plain": [
       "     prop_ids   urls  cities  lines  postal_codes  counties   lats   lons  \\\n",
       "0       False  False   False  False         False     False  False  False   \n",
       "1       False  False   False  False         False     False  False  False   \n",
       "2       False  False   False  False         False     False  False  False   \n",
       "3       False  False   False  False         False     False  False  False   \n",
       "4       False  False   False  False         False     False  False  False   \n",
       "..        ...    ...     ...    ...           ...       ...    ...    ...   \n",
       "195     False  False   False  False         False     False  False  False   \n",
       "196     False  False   False  False         False     False  False  False   \n",
       "197     False  False   False  False         False     False  False  False   \n",
       "198     False  False   False  False         False     False  False  False   \n",
       "199     False  False   False  False         False     False  False  False   \n",
       "\n",
       "     prices  baths_fulls  bedrooms  building_sizes  lot_sizes  \n",
       "0     False        False     False           False      False  \n",
       "1     False        False     False           False      False  \n",
       "2     False        False     False           False      False  \n",
       "3     False        False     False           False      False  \n",
       "4     False        False     False           False      False  \n",
       "..      ...          ...       ...             ...        ...  \n",
       "195   False        False     False           False      False  \n",
       "196   False        False     False           False      False  \n",
       "197   False        False     False           False      False  \n",
       "198   False        False     False           False      False  \n",
       "199   False        False     False           False      False  \n",
       "\n",
       "[200 rows x 13 columns]"
      ]
     },
     "execution_count": 64,
     "metadata": {},
     "output_type": "execute_result"
    }
   ],
   "source": [
    "#df.isnull()"
   ]
  },
  {
   "cell_type": "code",
   "execution_count": 98,
   "metadata": {},
   "outputs": [],
   "source": [
    "#imputing the non-categorical variables\n",
    "df_mean_imputed = df.fillna(df.mean())\n",
    "df_median_imputed = df.fillna(df.median())\n",
    "df_mean_imputed\n",
    "\n",
    "# Separate target from predictors\n",
    "y = df_mean_imputed.prices\n",
    "features = ['counties','baths_fulls','bedrooms','building_sizes','lot_sizes']\n",
    "X = df_mean_imputed[features]\n",
    "\n",
    "#split data\n",
    "X_train_full, X_valid_full, y_train, y_valid = train_test_split(X, y, train_size=0.8, test_size=0.2, random_state=0)\n",
    "\n",
    "\n",
    "# \"Cardinality\" means the number of unique values in a column\n",
    "# Select categorical columns with relatively low cardinality (convenient but arbitrary)\n",
    "low_cardinality_cols = [cname for cname in X_train_full.columns if X_train_full[cname].nunique() < 10 and \n",
    "                        X_train_full[cname].dtype == \"object\"]\n",
    "\n",
    "# Select numerical columns\n",
    "numerical_cols = [cname for cname in X_train_full.columns if X_train_full[cname].dtype in ['int64', 'float64']]\n",
    "\n",
    "# Keep selected columns only\n",
    "my_cols = low_cardinality_cols + numerical_cols\n",
    "X_train = X_train_full[my_cols].copy()\n",
    "X_valid = X_valid_full[my_cols].copy()"
   ]
  },
  {
   "cell_type": "markdown",
   "metadata": {},
   "source": [
    "Kaggle teaches to just drop the columns with missing values. \n",
    "\n",
    "#Drop columns with missing values (simplest approach)\n",
    "cols_with_missing = [col for col in X_train_full.columns if X_train_full[col].isnull().any()] \n",
    "X_train_full.drop(cols_with_missing, axis=1, inplace=True)\n",
    "X_valid_full.drop(cols_with_missing, axis=1, inplace=True)\n",
    "\n",
    "However, in my situation I'd have one two independent variables. The code at the beginning of the previous block allows you to impute the missing non-categorical independent variables and use all of the variables instead of losing data. Code:\n",
    "\n",
    "df_mean_imputed = df.fillna(df.mean())\n",
    "df_median_imputed = df.fillna(df.median())\n",
    "df_mean_imputed"
   ]
  },
  {
   "cell_type": "code",
   "execution_count": 95,
   "metadata": {},
   "outputs": [
    {
     "data": {
      "text/plain": [
       "counties           object\n",
       "baths_fulls       float64\n",
       "bedrooms          float64\n",
       "building_sizes    float64\n",
       "lot_sizes           int64\n",
       "dtype: object"
      ]
     },
     "execution_count": 95,
     "metadata": {},
     "output_type": "execute_result"
    }
   ],
   "source": [
    "X_train_full.dtypes"
   ]
  },
  {
   "cell_type": "code",
   "execution_count": 99,
   "metadata": {},
   "outputs": [
    {
     "data": {
      "text/html": [
       "<div>\n",
       "<style scoped>\n",
       "    .dataframe tbody tr th:only-of-type {\n",
       "        vertical-align: middle;\n",
       "    }\n",
       "\n",
       "    .dataframe tbody tr th {\n",
       "        vertical-align: top;\n",
       "    }\n",
       "\n",
       "    .dataframe thead th {\n",
       "        text-align: right;\n",
       "    }\n",
       "</style>\n",
       "<table border=\"1\" class=\"dataframe\">\n",
       "  <thead>\n",
       "    <tr style=\"text-align: right;\">\n",
       "      <th></th>\n",
       "      <th>counties</th>\n",
       "      <th>baths_fulls</th>\n",
       "      <th>bedrooms</th>\n",
       "      <th>building_sizes</th>\n",
       "      <th>lot_sizes</th>\n",
       "    </tr>\n",
       "  </thead>\n",
       "  <tbody>\n",
       "    <tr>\n",
       "      <th>134</th>\n",
       "      <td>False</td>\n",
       "      <td>False</td>\n",
       "      <td>False</td>\n",
       "      <td>False</td>\n",
       "      <td>False</td>\n",
       "    </tr>\n",
       "    <tr>\n",
       "      <th>66</th>\n",
       "      <td>False</td>\n",
       "      <td>False</td>\n",
       "      <td>False</td>\n",
       "      <td>False</td>\n",
       "      <td>False</td>\n",
       "    </tr>\n",
       "    <tr>\n",
       "      <th>26</th>\n",
       "      <td>False</td>\n",
       "      <td>False</td>\n",
       "      <td>False</td>\n",
       "      <td>False</td>\n",
       "      <td>False</td>\n",
       "    </tr>\n",
       "    <tr>\n",
       "      <th>113</th>\n",
       "      <td>False</td>\n",
       "      <td>False</td>\n",
       "      <td>False</td>\n",
       "      <td>False</td>\n",
       "      <td>False</td>\n",
       "    </tr>\n",
       "    <tr>\n",
       "      <th>168</th>\n",
       "      <td>False</td>\n",
       "      <td>False</td>\n",
       "      <td>False</td>\n",
       "      <td>False</td>\n",
       "      <td>False</td>\n",
       "    </tr>\n",
       "    <tr>\n",
       "      <th>...</th>\n",
       "      <td>...</td>\n",
       "      <td>...</td>\n",
       "      <td>...</td>\n",
       "      <td>...</td>\n",
       "      <td>...</td>\n",
       "    </tr>\n",
       "    <tr>\n",
       "      <th>67</th>\n",
       "      <td>False</td>\n",
       "      <td>False</td>\n",
       "      <td>False</td>\n",
       "      <td>False</td>\n",
       "      <td>False</td>\n",
       "    </tr>\n",
       "    <tr>\n",
       "      <th>192</th>\n",
       "      <td>False</td>\n",
       "      <td>False</td>\n",
       "      <td>False</td>\n",
       "      <td>False</td>\n",
       "      <td>False</td>\n",
       "    </tr>\n",
       "    <tr>\n",
       "      <th>117</th>\n",
       "      <td>False</td>\n",
       "      <td>False</td>\n",
       "      <td>False</td>\n",
       "      <td>False</td>\n",
       "      <td>False</td>\n",
       "    </tr>\n",
       "    <tr>\n",
       "      <th>47</th>\n",
       "      <td>False</td>\n",
       "      <td>False</td>\n",
       "      <td>False</td>\n",
       "      <td>False</td>\n",
       "      <td>False</td>\n",
       "    </tr>\n",
       "    <tr>\n",
       "      <th>172</th>\n",
       "      <td>False</td>\n",
       "      <td>False</td>\n",
       "      <td>False</td>\n",
       "      <td>False</td>\n",
       "      <td>False</td>\n",
       "    </tr>\n",
       "  </tbody>\n",
       "</table>\n",
       "<p>160 rows × 5 columns</p>\n",
       "</div>"
      ],
      "text/plain": [
       "     counties  baths_fulls  bedrooms  building_sizes  lot_sizes\n",
       "134     False        False     False           False      False\n",
       "66      False        False     False           False      False\n",
       "26      False        False     False           False      False\n",
       "113     False        False     False           False      False\n",
       "168     False        False     False           False      False\n",
       "..        ...          ...       ...             ...        ...\n",
       "67      False        False     False           False      False\n",
       "192     False        False     False           False      False\n",
       "117     False        False     False           False      False\n",
       "47      False        False     False           False      False\n",
       "172     False        False     False           False      False\n",
       "\n",
       "[160 rows x 5 columns]"
      ]
     },
     "execution_count": 99,
     "metadata": {},
     "output_type": "execute_result"
    }
   ],
   "source": [
    "#verifying that the null values are filled\n",
    "X_train_full.isnull()"
   ]
  },
  {
   "cell_type": "code",
   "execution_count": 97,
   "metadata": {},
   "outputs": [
    {
     "name": "stdout",
     "output_type": "stream",
     "text": [
      "Categorical variables:\n",
      "['counties']\n"
     ]
    }
   ],
   "source": [
    "# Get list of categorical variables\n",
    "s = (X_train.dtypes == 'object')\n",
    "object_cols = list(s[s].index)\n",
    "\n",
    "print(\"Categorical variables:\")\n",
    "print(object_cols)"
   ]
  },
  {
   "cell_type": "code",
   "execution_count": 100,
   "metadata": {},
   "outputs": [
    {
     "data": {
      "text/html": [
       "<div>\n",
       "<style scoped>\n",
       "    .dataframe tbody tr th:only-of-type {\n",
       "        vertical-align: middle;\n",
       "    }\n",
       "\n",
       "    .dataframe tbody tr th {\n",
       "        vertical-align: top;\n",
       "    }\n",
       "\n",
       "    .dataframe thead th {\n",
       "        text-align: right;\n",
       "    }\n",
       "</style>\n",
       "<table border=\"1\" class=\"dataframe\">\n",
       "  <thead>\n",
       "    <tr style=\"text-align: right;\">\n",
       "      <th></th>\n",
       "      <th>counties</th>\n",
       "      <th>baths_fulls</th>\n",
       "      <th>bedrooms</th>\n",
       "      <th>building_sizes</th>\n",
       "      <th>lot_sizes</th>\n",
       "    </tr>\n",
       "  </thead>\n",
       "  <tbody>\n",
       "    <tr>\n",
       "      <th>134</th>\n",
       "      <td>Ramsey</td>\n",
       "      <td>2.000000</td>\n",
       "      <td>4.000000</td>\n",
       "      <td>1750.0</td>\n",
       "      <td>14331</td>\n",
       "    </tr>\n",
       "    <tr>\n",
       "      <th>66</th>\n",
       "      <td>Ramsey</td>\n",
       "      <td>2.407407</td>\n",
       "      <td>4.000000</td>\n",
       "      <td>2365.0</td>\n",
       "      <td>42253</td>\n",
       "    </tr>\n",
       "    <tr>\n",
       "      <th>26</th>\n",
       "      <td>Hennepin</td>\n",
       "      <td>2.000000</td>\n",
       "      <td>2.000000</td>\n",
       "      <td>1400.0</td>\n",
       "      <td>27704</td>\n",
       "    </tr>\n",
       "    <tr>\n",
       "      <th>113</th>\n",
       "      <td>Ramsey</td>\n",
       "      <td>2.000000</td>\n",
       "      <td>2.000000</td>\n",
       "      <td>1374.0</td>\n",
       "      <td>1307</td>\n",
       "    </tr>\n",
       "    <tr>\n",
       "      <th>168</th>\n",
       "      <td>Ramsey</td>\n",
       "      <td>2.000000</td>\n",
       "      <td>3.666667</td>\n",
       "      <td>2808.0</td>\n",
       "      <td>10411</td>\n",
       "    </tr>\n",
       "  </tbody>\n",
       "</table>\n",
       "</div>"
      ],
      "text/plain": [
       "     counties  baths_fulls  bedrooms  building_sizes  lot_sizes\n",
       "134    Ramsey     2.000000  4.000000          1750.0      14331\n",
       "66     Ramsey     2.407407  4.000000          2365.0      42253\n",
       "26   Hennepin     2.000000  2.000000          1400.0      27704\n",
       "113    Ramsey     2.000000  2.000000          1374.0       1307\n",
       "168    Ramsey     2.000000  3.666667          2808.0      10411"
      ]
     },
     "execution_count": 100,
     "metadata": {},
     "output_type": "execute_result"
    }
   ],
   "source": [
    "X_train.head()"
   ]
  },
  {
   "cell_type": "code",
   "execution_count": 105,
   "metadata": {},
   "outputs": [
    {
     "data": {
      "text/html": [
       "<div>\n",
       "<style scoped>\n",
       "    .dataframe tbody tr th:only-of-type {\n",
       "        vertical-align: middle;\n",
       "    }\n",
       "\n",
       "    .dataframe tbody tr th {\n",
       "        vertical-align: top;\n",
       "    }\n",
       "\n",
       "    .dataframe thead th {\n",
       "        text-align: right;\n",
       "    }\n",
       "</style>\n",
       "<table border=\"1\" class=\"dataframe\">\n",
       "  <thead>\n",
       "    <tr style=\"text-align: right;\">\n",
       "      <th></th>\n",
       "      <th>counties</th>\n",
       "      <th>baths_fulls</th>\n",
       "      <th>bedrooms</th>\n",
       "      <th>building_sizes</th>\n",
       "      <th>lot_sizes</th>\n",
       "    </tr>\n",
       "  </thead>\n",
       "  <tbody>\n",
       "    <tr>\n",
       "      <th>134</th>\n",
       "      <td>Ramsey</td>\n",
       "      <td>2.000000</td>\n",
       "      <td>4.000000</td>\n",
       "      <td>1750.0</td>\n",
       "      <td>14331</td>\n",
       "    </tr>\n",
       "    <tr>\n",
       "      <th>66</th>\n",
       "      <td>Ramsey</td>\n",
       "      <td>2.407407</td>\n",
       "      <td>4.000000</td>\n",
       "      <td>2365.0</td>\n",
       "      <td>42253</td>\n",
       "    </tr>\n",
       "    <tr>\n",
       "      <th>26</th>\n",
       "      <td>Hennepin</td>\n",
       "      <td>2.000000</td>\n",
       "      <td>2.000000</td>\n",
       "      <td>1400.0</td>\n",
       "      <td>27704</td>\n",
       "    </tr>\n",
       "    <tr>\n",
       "      <th>113</th>\n",
       "      <td>Ramsey</td>\n",
       "      <td>2.000000</td>\n",
       "      <td>2.000000</td>\n",
       "      <td>1374.0</td>\n",
       "      <td>1307</td>\n",
       "    </tr>\n",
       "    <tr>\n",
       "      <th>168</th>\n",
       "      <td>Ramsey</td>\n",
       "      <td>2.000000</td>\n",
       "      <td>3.666667</td>\n",
       "      <td>2808.0</td>\n",
       "      <td>10411</td>\n",
       "    </tr>\n",
       "    <tr>\n",
       "      <th>...</th>\n",
       "      <td>...</td>\n",
       "      <td>...</td>\n",
       "      <td>...</td>\n",
       "      <td>...</td>\n",
       "      <td>...</td>\n",
       "    </tr>\n",
       "    <tr>\n",
       "      <th>67</th>\n",
       "      <td>Hennepin</td>\n",
       "      <td>2.000000</td>\n",
       "      <td>3.000000</td>\n",
       "      <td>1556.0</td>\n",
       "      <td>10019</td>\n",
       "    </tr>\n",
       "    <tr>\n",
       "      <th>192</th>\n",
       "      <td>Hennepin</td>\n",
       "      <td>2.407407</td>\n",
       "      <td>6.000000</td>\n",
       "      <td>2594.0</td>\n",
       "      <td>39204</td>\n",
       "    </tr>\n",
       "    <tr>\n",
       "      <th>117</th>\n",
       "      <td>Carver</td>\n",
       "      <td>3.000000</td>\n",
       "      <td>4.000000</td>\n",
       "      <td>2704.0</td>\n",
       "      <td>16553</td>\n",
       "    </tr>\n",
       "    <tr>\n",
       "      <th>47</th>\n",
       "      <td>Hennepin</td>\n",
       "      <td>4.000000</td>\n",
       "      <td>4.000000</td>\n",
       "      <td>2556.0</td>\n",
       "      <td>9583</td>\n",
       "    </tr>\n",
       "    <tr>\n",
       "      <th>172</th>\n",
       "      <td>Ramsey</td>\n",
       "      <td>2.000000</td>\n",
       "      <td>2.000000</td>\n",
       "      <td>1263.0</td>\n",
       "      <td>1307</td>\n",
       "    </tr>\n",
       "  </tbody>\n",
       "</table>\n",
       "<p>160 rows × 5 columns</p>\n",
       "</div>"
      ],
      "text/plain": [
       "     counties  baths_fulls  bedrooms  building_sizes  lot_sizes\n",
       "134    Ramsey     2.000000  4.000000          1750.0      14331\n",
       "66     Ramsey     2.407407  4.000000          2365.0      42253\n",
       "26   Hennepin     2.000000  2.000000          1400.0      27704\n",
       "113    Ramsey     2.000000  2.000000          1374.0       1307\n",
       "168    Ramsey     2.000000  3.666667          2808.0      10411\n",
       "..        ...          ...       ...             ...        ...\n",
       "67   Hennepin     2.000000  3.000000          1556.0      10019\n",
       "192  Hennepin     2.407407  6.000000          2594.0      39204\n",
       "117    Carver     3.000000  4.000000          2704.0      16553\n",
       "47   Hennepin     4.000000  4.000000          2556.0       9583\n",
       "172    Ramsey     2.000000  2.000000          1263.0       1307\n",
       "\n",
       "[160 rows x 5 columns]"
      ]
     },
     "execution_count": 105,
     "metadata": {},
     "output_type": "execute_result"
    }
   ],
   "source": [
    "X_train"
   ]
  },
  {
   "cell_type": "code",
   "execution_count": 102,
   "metadata": {},
   "outputs": [],
   "source": [
    "#Building MAE function\n",
    "from sklearn.ensemble import RandomForestRegressor\n",
    "from sklearn.metrics import mean_absolute_error\n",
    "\n",
    "# Function for comparing different approaches\n",
    "def score_dataset(X_train, X_valid, y_train, y_valid):\n",
    "    model = RandomForestRegressor(n_estimators=100, random_state=0)\n",
    "    model.fit(X_train, y_train)\n",
    "    preds = model.predict(X_valid)\n",
    "    return mean_absolute_error(y_valid, preds)"
   ]
  },
  {
   "cell_type": "code",
   "execution_count": 103,
   "metadata": {},
   "outputs": [
    {
     "name": "stdout",
     "output_type": "stream",
     "text": [
      "MAE from Approach 1 (Drop categorical variables):\n",
      "96513.70800000001\n"
     ]
    }
   ],
   "source": [
    "drop_X_train = X_train.select_dtypes(exclude=['object'])\n",
    "drop_X_valid = X_valid.select_dtypes(exclude=['object'])\n",
    "\n",
    "print(\"MAE from Approach 1 (Drop categorical variables):\")\n",
    "print(score_dataset(drop_X_train, drop_X_valid, y_train, y_valid))"
   ]
  },
  {
   "cell_type": "markdown",
   "metadata": {},
   "source": [
    "Ordinal coding was not used here because of the wide variety of counties within the data. This high value would have made the data dense, difficult to interpret, and less valuable."
   ]
  },
  {
   "cell_type": "code",
   "execution_count": 167,
   "metadata": {},
   "outputs": [],
   "source": [
    "from sklearn.preprocessing import OneHotEncoder\n",
    "\n",
    "# Apply one-hot encoder to each column with categorical data\n",
    "OH_encoder = OneHotEncoder(handle_unknown='ignore', sparse=False)\n",
    "OH_cols_train = pd.DataFrame(OH_encoder.fit_transform(X_train[object_cols]))\n",
    "OH_cols_valid = pd.DataFrame(OH_encoder.transform(X_valid[object_cols]))"
   ]
  },
  {
   "cell_type": "code",
   "execution_count": 168,
   "metadata": {},
   "outputs": [],
   "source": [
    "# One-hot encoding removed index; put it back\n",
    "OH_cols_train.index = X_train.index\n",
    "OH_cols_valid.index = X_valid.index"
   ]
  },
  {
   "cell_type": "code",
   "execution_count": 169,
   "metadata": {},
   "outputs": [],
   "source": [
    "# Remove categorical columns (will replace with one-hot encoding)\n",
    "num_X_train = X_train.drop(object_cols, axis=1)\n",
    "num_X_valid = X_valid.drop(object_cols, axis=1)"
   ]
  },
  {
   "cell_type": "code",
   "execution_count": 170,
   "metadata": {},
   "outputs": [
    {
     "name": "stdout",
     "output_type": "stream",
     "text": [
      "MAE from Approach 3 (One-Hot Encoding):\n",
      "105183.58475000001\n"
     ]
    }
   ],
   "source": [
    "# Add one-hot encoded columns to numerical features\n",
    "OH_X_train = pd.concat([num_X_train, OH_cols_train], axis=1)\n",
    "OH_X_valid = pd.concat([num_X_valid, OH_cols_valid], axis=1)\n",
    "\n",
    "print(\"MAE from Approach 3 (One-Hot Encoding):\") \n",
    "print(score_dataset(OH_X_train, OH_X_valid, y_train, y_valid))"
   ]
  },
  {
   "cell_type": "code",
   "execution_count": 171,
   "metadata": {},
   "outputs": [
    {
     "data": {
      "text/html": [
       "<div>\n",
       "<style scoped>\n",
       "    .dataframe tbody tr th:only-of-type {\n",
       "        vertical-align: middle;\n",
       "    }\n",
       "\n",
       "    .dataframe tbody tr th {\n",
       "        vertical-align: top;\n",
       "    }\n",
       "\n",
       "    .dataframe thead th {\n",
       "        text-align: right;\n",
       "    }\n",
       "</style>\n",
       "<table border=\"1\" class=\"dataframe\">\n",
       "  <thead>\n",
       "    <tr style=\"text-align: right;\">\n",
       "      <th></th>\n",
       "      <th>baths_fulls</th>\n",
       "      <th>bedrooms</th>\n",
       "      <th>building_sizes</th>\n",
       "      <th>lot_sizes</th>\n",
       "      <th>0</th>\n",
       "      <th>1</th>\n",
       "      <th>2</th>\n",
       "      <th>3</th>\n",
       "      <th>4</th>\n",
       "      <th>5</th>\n",
       "    </tr>\n",
       "  </thead>\n",
       "  <tbody>\n",
       "    <tr>\n",
       "      <th>134</th>\n",
       "      <td>2.000000</td>\n",
       "      <td>4.000000</td>\n",
       "      <td>1750.0</td>\n",
       "      <td>14331</td>\n",
       "      <td>0.0</td>\n",
       "      <td>0.0</td>\n",
       "      <td>0.0</td>\n",
       "      <td>0.0</td>\n",
       "      <td>1.0</td>\n",
       "      <td>0.0</td>\n",
       "    </tr>\n",
       "    <tr>\n",
       "      <th>66</th>\n",
       "      <td>2.407407</td>\n",
       "      <td>4.000000</td>\n",
       "      <td>2365.0</td>\n",
       "      <td>42253</td>\n",
       "      <td>0.0</td>\n",
       "      <td>0.0</td>\n",
       "      <td>0.0</td>\n",
       "      <td>0.0</td>\n",
       "      <td>1.0</td>\n",
       "      <td>0.0</td>\n",
       "    </tr>\n",
       "    <tr>\n",
       "      <th>26</th>\n",
       "      <td>2.000000</td>\n",
       "      <td>2.000000</td>\n",
       "      <td>1400.0</td>\n",
       "      <td>27704</td>\n",
       "      <td>0.0</td>\n",
       "      <td>0.0</td>\n",
       "      <td>0.0</td>\n",
       "      <td>1.0</td>\n",
       "      <td>0.0</td>\n",
       "      <td>0.0</td>\n",
       "    </tr>\n",
       "    <tr>\n",
       "      <th>113</th>\n",
       "      <td>2.000000</td>\n",
       "      <td>2.000000</td>\n",
       "      <td>1374.0</td>\n",
       "      <td>1307</td>\n",
       "      <td>0.0</td>\n",
       "      <td>0.0</td>\n",
       "      <td>0.0</td>\n",
       "      <td>0.0</td>\n",
       "      <td>1.0</td>\n",
       "      <td>0.0</td>\n",
       "    </tr>\n",
       "    <tr>\n",
       "      <th>168</th>\n",
       "      <td>2.000000</td>\n",
       "      <td>3.666667</td>\n",
       "      <td>2808.0</td>\n",
       "      <td>10411</td>\n",
       "      <td>0.0</td>\n",
       "      <td>0.0</td>\n",
       "      <td>0.0</td>\n",
       "      <td>0.0</td>\n",
       "      <td>1.0</td>\n",
       "      <td>0.0</td>\n",
       "    </tr>\n",
       "  </tbody>\n",
       "</table>\n",
       "</div>"
      ],
      "text/plain": [
       "     baths_fulls  bedrooms  building_sizes  lot_sizes    0    1    2    3  \\\n",
       "134     2.000000  4.000000          1750.0      14331  0.0  0.0  0.0  0.0   \n",
       "66      2.407407  4.000000          2365.0      42253  0.0  0.0  0.0  0.0   \n",
       "26      2.000000  2.000000          1400.0      27704  0.0  0.0  0.0  1.0   \n",
       "113     2.000000  2.000000          1374.0       1307  0.0  0.0  0.0  0.0   \n",
       "168     2.000000  3.666667          2808.0      10411  0.0  0.0  0.0  0.0   \n",
       "\n",
       "       4    5  \n",
       "134  1.0  0.0  \n",
       "66   1.0  0.0  \n",
       "26   0.0  0.0  \n",
       "113  1.0  0.0  \n",
       "168  1.0  0.0  "
      ]
     },
     "execution_count": 171,
     "metadata": {},
     "output_type": "execute_result"
    }
   ],
   "source": [
    "OH_X_train.head()"
   ]
  },
  {
   "cell_type": "markdown",
   "metadata": {},
   "source": [
    "## Pipelines"
   ]
  },
  {
   "cell_type": "code",
   "execution_count": 173,
   "metadata": {},
   "outputs": [],
   "source": [
    "#Building/splitting dataset\n",
    "y = df.prices\n",
    "features = ['counties','baths_fulls','bedrooms','building_sizes','lot_sizes']\n",
    "X = df[features]\n",
    "\n",
    "X_train_full, X_valid_full, y_train, y_valid = train_test_split(X, y, train_size=0.8, test_size=0.2, random_state=0)"
   ]
  },
  {
   "cell_type": "code",
   "execution_count": 176,
   "metadata": {},
   "outputs": [],
   "source": [
    "#Low cardinality - cardinality is the value of unique observations within a column. We want low cardinality\n",
    "# to keep the dataset smaller\n",
    "categorical_cols = [catname for catname in X_train_full.columns if X_train_full[catname].nunique() < 10 and \n",
    "                        X_train_full[catname].dtype == \"object\"]"
   ]
  },
  {
   "cell_type": "code",
   "execution_count": 177,
   "metadata": {},
   "outputs": [],
   "source": [
    "# Select numerical columns\n",
    "numerical_cols = [cname for cname in X_train_full.columns if X_train_full[cname].dtype in ['int64', 'float64']]"
   ]
  },
  {
   "cell_type": "code",
   "execution_count": 178,
   "metadata": {},
   "outputs": [],
   "source": [
    "# Keep selected columns only\n",
    "my_cols = categorical_cols + numerical_cols\n",
    "X_train = X_train_full[my_cols].copy()\n",
    "X_valid = X_valid_full[my_cols].copy()"
   ]
  },
  {
   "cell_type": "code",
   "execution_count": 181,
   "metadata": {},
   "outputs": [
    {
     "data": {
      "text/html": [
       "<div>\n",
       "<style scoped>\n",
       "    .dataframe tbody tr th:only-of-type {\n",
       "        vertical-align: middle;\n",
       "    }\n",
       "\n",
       "    .dataframe tbody tr th {\n",
       "        vertical-align: top;\n",
       "    }\n",
       "\n",
       "    .dataframe thead th {\n",
       "        text-align: right;\n",
       "    }\n",
       "</style>\n",
       "<table border=\"1\" class=\"dataframe\">\n",
       "  <thead>\n",
       "    <tr style=\"text-align: right;\">\n",
       "      <th></th>\n",
       "      <th>counties</th>\n",
       "      <th>baths_fulls</th>\n",
       "      <th>bedrooms</th>\n",
       "      <th>building_sizes</th>\n",
       "      <th>lot_sizes</th>\n",
       "    </tr>\n",
       "  </thead>\n",
       "  <tbody>\n",
       "    <tr>\n",
       "      <th>134</th>\n",
       "      <td>Ramsey</td>\n",
       "      <td>2.0</td>\n",
       "      <td>4.0</td>\n",
       "      <td>1750.0</td>\n",
       "      <td>14331</td>\n",
       "    </tr>\n",
       "    <tr>\n",
       "      <th>66</th>\n",
       "      <td>Ramsey</td>\n",
       "      <td>NaN</td>\n",
       "      <td>4.0</td>\n",
       "      <td>2365.0</td>\n",
       "      <td>42253</td>\n",
       "    </tr>\n",
       "    <tr>\n",
       "      <th>26</th>\n",
       "      <td>Hennepin</td>\n",
       "      <td>2.0</td>\n",
       "      <td>2.0</td>\n",
       "      <td>1400.0</td>\n",
       "      <td>27704</td>\n",
       "    </tr>\n",
       "    <tr>\n",
       "      <th>113</th>\n",
       "      <td>Ramsey</td>\n",
       "      <td>2.0</td>\n",
       "      <td>2.0</td>\n",
       "      <td>1374.0</td>\n",
       "      <td>1307</td>\n",
       "    </tr>\n",
       "    <tr>\n",
       "      <th>168</th>\n",
       "      <td>Ramsey</td>\n",
       "      <td>2.0</td>\n",
       "      <td>NaN</td>\n",
       "      <td>2808.0</td>\n",
       "      <td>10411</td>\n",
       "    </tr>\n",
       "  </tbody>\n",
       "</table>\n",
       "</div>"
      ],
      "text/plain": [
       "     counties  baths_fulls  bedrooms  building_sizes  lot_sizes\n",
       "134    Ramsey          2.0       4.0          1750.0      14331\n",
       "66     Ramsey          NaN       4.0          2365.0      42253\n",
       "26   Hennepin          2.0       2.0          1400.0      27704\n",
       "113    Ramsey          2.0       2.0          1374.0       1307\n",
       "168    Ramsey          2.0       NaN          2808.0      10411"
      ]
     },
     "execution_count": 181,
     "metadata": {},
     "output_type": "execute_result"
    }
   ],
   "source": [
    "X_train.head()"
   ]
  },
  {
   "cell_type": "code",
   "execution_count": 182,
   "metadata": {},
   "outputs": [
    {
     "data": {
      "text/html": [
       "<div>\n",
       "<style scoped>\n",
       "    .dataframe tbody tr th:only-of-type {\n",
       "        vertical-align: middle;\n",
       "    }\n",
       "\n",
       "    .dataframe tbody tr th {\n",
       "        vertical-align: top;\n",
       "    }\n",
       "\n",
       "    .dataframe thead th {\n",
       "        text-align: right;\n",
       "    }\n",
       "</style>\n",
       "<table border=\"1\" class=\"dataframe\">\n",
       "  <thead>\n",
       "    <tr style=\"text-align: right;\">\n",
       "      <th></th>\n",
       "      <th>counties</th>\n",
       "      <th>baths_fulls</th>\n",
       "      <th>bedrooms</th>\n",
       "      <th>building_sizes</th>\n",
       "      <th>lot_sizes</th>\n",
       "    </tr>\n",
       "  </thead>\n",
       "  <tbody>\n",
       "    <tr>\n",
       "      <th>18</th>\n",
       "      <td>Ramsey</td>\n",
       "      <td>NaN</td>\n",
       "      <td>3.0</td>\n",
       "      <td>2011.0</td>\n",
       "      <td>5663</td>\n",
       "    </tr>\n",
       "    <tr>\n",
       "      <th>170</th>\n",
       "      <td>Hennepin</td>\n",
       "      <td>3.0</td>\n",
       "      <td>3.0</td>\n",
       "      <td>4405.0</td>\n",
       "      <td>10454</td>\n",
       "    </tr>\n",
       "    <tr>\n",
       "      <th>107</th>\n",
       "      <td>Hennepin</td>\n",
       "      <td>3.0</td>\n",
       "      <td>3.0</td>\n",
       "      <td>NaN</td>\n",
       "      <td>10019</td>\n",
       "    </tr>\n",
       "    <tr>\n",
       "      <th>98</th>\n",
       "      <td>Hennepin</td>\n",
       "      <td>2.0</td>\n",
       "      <td>4.0</td>\n",
       "      <td>2152.0</td>\n",
       "      <td>12632</td>\n",
       "    </tr>\n",
       "    <tr>\n",
       "      <th>177</th>\n",
       "      <td>Dakota</td>\n",
       "      <td>2.0</td>\n",
       "      <td>3.0</td>\n",
       "      <td>1650.0</td>\n",
       "      <td>9932</td>\n",
       "    </tr>\n",
       "  </tbody>\n",
       "</table>\n",
       "</div>"
      ],
      "text/plain": [
       "     counties  baths_fulls  bedrooms  building_sizes  lot_sizes\n",
       "18     Ramsey          NaN       3.0          2011.0       5663\n",
       "170  Hennepin          3.0       3.0          4405.0      10454\n",
       "107  Hennepin          3.0       3.0             NaN      10019\n",
       "98   Hennepin          2.0       4.0          2152.0      12632\n",
       "177    Dakota          2.0       3.0          1650.0       9932"
      ]
     },
     "execution_count": 182,
     "metadata": {},
     "output_type": "execute_result"
    }
   ],
   "source": [
    "X_valid.head()"
   ]
  },
  {
   "cell_type": "markdown",
   "metadata": {},
   "source": [
    "Step 1: Define Preprocessing Steps"
   ]
  },
  {
   "cell_type": "code",
   "execution_count": 183,
   "metadata": {},
   "outputs": [],
   "source": [
    "from sklearn.compose import ColumnTransformer\n",
    "from sklearn.pipeline import Pipeline\n",
    "from sklearn.impute import SimpleImputer\n",
    "from sklearn.preprocessing import OneHotEncoder"
   ]
  },
  {
   "cell_type": "code",
   "execution_count": 185,
   "metadata": {},
   "outputs": [],
   "source": [
    "# Preprocessing for numerical data\n",
    "numerical_transformer = SimpleImputer(strategy='constant')\n",
    "\n",
    "# Preprocessing for categorical data - imputes the values\n",
    "categorical_transformer = Pipeline(steps=[\n",
    "    ('imputer', SimpleImputer(strategy='most_frequent')),\n",
    "    ('onehot', OneHotEncoder(handle_unknown='ignore'))\n",
    "])\n",
    "\n",
    "# Bundle preprocessing for numerical and categorical data\n",
    "preprocessor = ColumnTransformer(\n",
    "    transformers=[\n",
    "        ('num', numerical_transformer, numerical_cols),\n",
    "        ('cat', categorical_transformer, categorical_cols)\n",
    "    ])"
   ]
  },
  {
   "cell_type": "markdown",
   "metadata": {},
   "source": [
    "Step 2: Define the Model"
   ]
  },
  {
   "cell_type": "code",
   "execution_count": 186,
   "metadata": {},
   "outputs": [],
   "source": [
    "from sklearn.ensemble import RandomForestRegressor\n",
    "\n",
    "model = RandomForestRegressor(n_estimators=100, random_state=0)"
   ]
  },
  {
   "cell_type": "markdown",
   "metadata": {},
   "source": [
    "Step 3: Create and Evaluate the Pipeline"
   ]
  },
  {
   "cell_type": "code",
   "execution_count": 188,
   "metadata": {},
   "outputs": [
    {
     "name": "stdout",
     "output_type": "stream",
     "text": [
      "MAE: 103835.46975\n"
     ]
    }
   ],
   "source": [
    "from sklearn.metrics import mean_absolute_error\n",
    "\n",
    "# Bundle preprocessing and modeling code in a pipeline\n",
    "my_pipeline = Pipeline(steps=[('preprocessor', preprocessor),\n",
    "                              ('model', model)\n",
    "                             ])\n",
    "\n",
    "# Preprocessing of training data, fit model \n",
    "my_pipeline.fit(X_train, y_train)\n",
    "\n",
    "# Preprocessing of validation data, get predictions\n",
    "preds = my_pipeline.predict(X_valid)\n",
    "\n",
    "# Evaluate the model\n",
    "score = mean_absolute_error(y_valid, preds)\n",
    "print('MAE:', score)"
   ]
  },
  {
   "cell_type": "code",
   "execution_count": 319,
   "metadata": {},
   "outputs": [
    {
     "data": {
      "text/html": [
       "<div>\n",
       "<style scoped>\n",
       "    .dataframe tbody tr th:only-of-type {\n",
       "        vertical-align: middle;\n",
       "    }\n",
       "\n",
       "    .dataframe tbody tr th {\n",
       "        vertical-align: top;\n",
       "    }\n",
       "\n",
       "    .dataframe thead th {\n",
       "        text-align: right;\n",
       "    }\n",
       "</style>\n",
       "<table border=\"1\" class=\"dataframe\">\n",
       "  <thead>\n",
       "    <tr style=\"text-align: right;\">\n",
       "      <th></th>\n",
       "      <th>counties</th>\n",
       "      <th>baths_fulls</th>\n",
       "      <th>bedrooms</th>\n",
       "      <th>building_sizes</th>\n",
       "      <th>lot_sizes</th>\n",
       "    </tr>\n",
       "  </thead>\n",
       "  <tbody>\n",
       "    <tr>\n",
       "      <th>18</th>\n",
       "      <td>Ramsey</td>\n",
       "      <td>NaN</td>\n",
       "      <td>3.0</td>\n",
       "      <td>2011.0</td>\n",
       "      <td>5663</td>\n",
       "    </tr>\n",
       "    <tr>\n",
       "      <th>170</th>\n",
       "      <td>Hennepin</td>\n",
       "      <td>3.0</td>\n",
       "      <td>3.0</td>\n",
       "      <td>4405.0</td>\n",
       "      <td>10454</td>\n",
       "    </tr>\n",
       "    <tr>\n",
       "      <th>107</th>\n",
       "      <td>Hennepin</td>\n",
       "      <td>3.0</td>\n",
       "      <td>3.0</td>\n",
       "      <td>NaN</td>\n",
       "      <td>10019</td>\n",
       "    </tr>\n",
       "    <tr>\n",
       "      <th>98</th>\n",
       "      <td>Hennepin</td>\n",
       "      <td>2.0</td>\n",
       "      <td>4.0</td>\n",
       "      <td>2152.0</td>\n",
       "      <td>12632</td>\n",
       "    </tr>\n",
       "    <tr>\n",
       "      <th>177</th>\n",
       "      <td>Dakota</td>\n",
       "      <td>2.0</td>\n",
       "      <td>3.0</td>\n",
       "      <td>1650.0</td>\n",
       "      <td>9932</td>\n",
       "    </tr>\n",
       "  </tbody>\n",
       "</table>\n",
       "</div>"
      ],
      "text/plain": [
       "     counties  baths_fulls  bedrooms  building_sizes  lot_sizes\n",
       "18     Ramsey          NaN       3.0          2011.0       5663\n",
       "170  Hennepin          3.0       3.0          4405.0      10454\n",
       "107  Hennepin          3.0       3.0             NaN      10019\n",
       "98   Hennepin          2.0       4.0          2152.0      12632\n",
       "177    Dakota          2.0       3.0          1650.0       9932"
      ]
     },
     "execution_count": 319,
     "metadata": {},
     "output_type": "execute_result"
    }
   ],
   "source": [
    "X_valid.head()"
   ]
  },
  {
   "cell_type": "markdown",
   "metadata": {},
   "source": [
    "This process was much easier to understand and implement compared to traditional ML processing. We also received a lower score than the third approach for missing data."
   ]
  },
  {
   "cell_type": "markdown",
   "metadata": {},
   "source": [
    "# Cross-Validation"
   ]
  },
  {
   "cell_type": "code",
   "execution_count": 311,
   "metadata": {},
   "outputs": [],
   "source": [
    "#Building/splitting dataset\n",
    "y = df.prices\n",
    "features = ['baths_fulls','bedrooms','building_sizes','lot_sizes']\n",
    "X = df[features]"
   ]
  },
  {
   "cell_type": "code",
   "execution_count": 312,
   "metadata": {},
   "outputs": [],
   "source": [
    "from sklearn.ensemble import RandomForestRegressor\n",
    "from sklearn.pipeline import Pipeline\n",
    "from sklearn.impute import SimpleImputer\n",
    "\n",
    "#building pipeline\n",
    "my_pipeline = Pipeline(steps=[('preprocessor', SimpleImputer()),\n",
    "                              ('model', RandomForestRegressor(n_estimators=50,\n",
    "                                                              random_state=0))\n",
    "                             ])\n"
   ]
  },
  {
   "cell_type": "code",
   "execution_count": 313,
   "metadata": {},
   "outputs": [
    {
     "name": "stdout",
     "output_type": "stream",
     "text": [
      "MAE scores:\n",
      " [107412.9975 121508.69   119776.945   91844.008  140529.2935]\n"
     ]
    }
   ],
   "source": [
    "#The model wouldn't let me use a categorical variable - Hopefully will return to this in the future for code that does allow that\n",
    "\n",
    "from sklearn.model_selection import cross_val_score\n",
    "\n",
    "# Multiply by -1 since sklearn calculates *negative* MAE\n",
    "scores = -1 * cross_val_score(my_pipeline, X, y,\n",
    "                              cv=5,\n",
    "                              scoring='neg_mean_absolute_error')\n",
    "\n",
    "print(\"MAE scores:\\n\", scores)"
   ]
  },
  {
   "cell_type": "markdown",
   "metadata": {},
   "source": [
    "highest score is best"
   ]
  },
  {
   "cell_type": "code",
   "execution_count": 314,
   "metadata": {
    "scrolled": true
   },
   "outputs": [
    {
     "name": "stdout",
     "output_type": "stream",
     "text": [
      "Average MAE score (across experiments):\n",
      "116214.38680000001\n"
     ]
    }
   ],
   "source": [
    "print(\"Average MAE score (across experiments):\")\n",
    "print(scores.mean())"
   ]
  },
  {
   "cell_type": "code",
   "execution_count": 315,
   "metadata": {},
   "outputs": [
    {
     "name": "stdout",
     "output_type": "stream",
     "text": [
      "116214.38680000001\n"
     ]
    }
   ],
   "source": [
    "def get_score(n_estimators):\n",
    "    \"\"\"Return the average MAE over 3 CV folds of random forest model.\n",
    "    \n",
    "    Keyword argument:\n",
    "    n_estimators -- the number of trees in the forest\n",
    "    \"\"\"\n",
    "    # Replace this body with your own code\n",
    "    my_pipeline = Pipeline(steps=[('preprocessor', SimpleImputer()),\n",
    "                              ('model', RandomForestRegressor(n_estimators,\n",
    "                                                              random_state=0))\n",
    "                             ])\n",
    "    scores = -1 * cross_val_score(my_pipeline, X, y,\n",
    "                              cv=3,\n",
    "                              scoring='neg_mean_absolute_error')\n",
    "    return scores.mean()\n",
    "print(scores.mean())"
   ]
  },
  {
   "cell_type": "code",
   "execution_count": 316,
   "metadata": {},
   "outputs": [],
   "source": [
    "#How many trees should be in our model? - 50, 100, 150, ..., 300, 350, 400\n",
    "results = {} # Your code here\n",
    "\n",
    "for i in range(1,20):\n",
    "    results[50*i] = get_score(50*i)"
   ]
  },
  {
   "cell_type": "code",
   "execution_count": 317,
   "metadata": {},
   "outputs": [
    {
     "data": {
      "image/png": "[encoded data removed]",
      "text/plain": [
       "<Figure size 432x288 with 1 Axes>"
      ]
     },
     "metadata": {
      "needs_background": "light"
     },
     "output_type": "display_data"
    }
   ],
   "source": [
    "import matplotlib.pyplot as plt\n",
    "%matplotlib inline\n",
    "\n",
    "plt.plot(list(results.keys()), list(results.values()))\n",
    "plt.show()"
   ]
  },
  {
   "cell_type": "code",
   "execution_count": 318,
   "metadata": {},
   "outputs": [
    {
     "name": "stdout",
     "output_type": "stream",
     "text": [
      "700\n"
     ]
    }
   ],
   "source": [
    "n_estimators_best = min(results, key=results.get)\n",
    "print(n_estimators_best)"
   ]
  },
  {
   "cell_type": "markdown",
   "metadata": {},
   "source": [
    "400 or more trees provides the best quality it seems. This also seems very high."
   ]
  },
  {
   "cell_type": "code",
   "execution_count": 293,
   "metadata": {},
   "outputs": [],
   "source": [
    "my_pipeline = Pipeline(steps=[\n",
    "    ('preprocessor', SimpleImputer()),\n",
    "    ('model', RandomForestRegressor(n_estimators=700, random_state=0))\n",
    "])"
   ]
  },
  {
   "cell_type": "code",
   "execution_count": 294,
   "metadata": {},
   "outputs": [
    {
     "name": "stdout",
     "output_type": "stream",
     "text": [
      "Average MAE score: 112761.9572142857\n"
     ]
    }
   ],
   "source": [
    "from sklearn.model_selection import cross_val_score\n",
    "\n",
    "# Multiply by -1 since sklearn calculates *negative* MAE\n",
    "scores = -1 * cross_val_score(my_pipeline, X, y,\n",
    "                              cv=5,\n",
    "                              scoring='neg_mean_absolute_error')\n",
    "\n",
    "print(\"Average MAE score:\", scores.mean())"
   ]
  },
  {
   "cell_type": "code",
   "execution_count": 310,
   "metadata": {},
   "outputs": [
    {
     "name": "stdout",
     "output_type": "stream",
     "text": [
      "Average MAE score: 112761.9572142857\n"
     ]
    }
   ],
   "source": [
    "#The cell above as a function - looking at n-neighbors as 700\n",
    "def new_score(n_neighbors=700):\n",
    "    my_pipeline = Pipeline(steps=[\n",
    "    ('preprocessor', SimpleImputer()),\n",
    "    ('model', RandomForestRegressor(n_estimators, random_state=0))])\n",
    "    \n",
    "    scores = -1 * cross_val_score(my_pipeline, X, y,\n",
    "                              cv=5,\n",
    "                              scoring='neg_mean_absolute_error')\n",
    "\n",
    "print(\"Average MAE score:\", scores.mean())\n",
    "    "
   ]
  },
  {
   "cell_type": "markdown",
   "metadata": {},
   "source": [
    "Unsurprising the random forest ran better with a higher n-neighbors (the optimal) based on the n_estimators test. However, it did worse than the models above (the models above had an extra variable in the categorical form)"
   ]
  },
  {
   "cell_type": "markdown",
   "metadata": {},
   "source": [
    "# XGBoost"
   ]
  },
  {
   "cell_type": "code",
   "execution_count": 14,
   "metadata": {},
   "outputs": [],
   "source": [
    "import pandas as pd\n",
    "from sklearn.model_selection import train_test_split\n",
    "\n",
    "#Building/splitting dataset\n",
    "y = df.prices\n",
    "features = ['baths_fulls','bedrooms','building_sizes','lot_sizes']\n",
    "X = df[features]"
   ]
  },
  {
   "cell_type": "code",
   "execution_count": 15,
   "metadata": {},
   "outputs": [],
   "source": [
    "#separate data\n",
    "X_train, X_valid, y_train, y_valid = train_test_split(X, y)"
   ]
  },
  {
   "cell_type": "code",
   "execution_count": 16,
   "metadata": {},
   "outputs": [
    {
     "data": {
      "text/plain": [
       "XGBRegressor(base_score=0.5, booster=None, colsample_bylevel=1,\n",
       "             colsample_bynode=1, colsample_bytree=1, gamma=0, gpu_id=-1,\n",
       "             importance_type='gain', interaction_constraints=None,\n",
       "             learning_rate=0.300000012, max_delta_step=0, max_depth=6,\n",
       "             min_child_weight=1, missing=nan, monotone_constraints=None,\n",
       "             n_estimators=100, n_jobs=0, num_parallel_tree=1, random_state=0,\n",
       "             reg_alpha=0, reg_lambda=1, scale_pos_weight=1, subsample=1,\n",
       "             tree_method=None, validate_parameters=False, verbosity=None)"
      ]
     },
     "execution_count": 16,
     "metadata": {},
     "output_type": "execute_result"
    }
   ],
   "source": [
    "from xgboost import XGBRegressor\n",
    "\n",
    "my_model = XGBRegressor()\n",
    "my_model.fit(X_train, y_train)"
   ]
  },
  {
   "cell_type": "code",
   "execution_count": 19,
   "metadata": {},
   "outputs": [
    {
     "name": "stdout",
     "output_type": "stream",
     "text": [
      "Mean Absolute Error: 111969.31875\n"
     ]
    }
   ],
   "source": [
    "#test outcome\n",
    "from sklearn.metrics import mean_absolute_error\n",
    "\n",
    "predictions = my_model.predict(X_valid)\n",
    "print(\"Mean Absolute Error: \" + str(mean_absolute_error(predictions, y_valid)))"
   ]
  },
  {
   "cell_type": "code",
   "execution_count": 20,
   "metadata": {},
   "outputs": [
    {
     "data": {
      "text/plain": [
       "XGBRegressor(base_score=0.5, booster=None, colsample_bylevel=1,\n",
       "             colsample_bynode=1, colsample_bytree=1, gamma=0, gpu_id=-1,\n",
       "             importance_type='gain', interaction_constraints=None,\n",
       "             learning_rate=0.300000012, max_delta_step=0, max_depth=6,\n",
       "             min_child_weight=1, missing=nan, monotone_constraints=None,\n",
       "             n_estimators=500, n_jobs=0, num_parallel_tree=1, random_state=0,\n",
       "             reg_alpha=0, reg_lambda=1, scale_pos_weight=1, subsample=1,\n",
       "             tree_method=None, validate_parameters=False, verbosity=None)"
      ]
     },
     "execution_count": 20,
     "metadata": {},
     "output_type": "execute_result"
    }
   ],
   "source": [
    "#Setting the model values\n",
    "my_model = XGBRegressor(n_estimators=500)\n",
    "my_model.fit(X_train, y_train)"
   ]
  },
  {
   "cell_type": "code",
   "execution_count": 28,
   "metadata": {},
   "outputs": [
    {
     "name": "stdout",
     "output_type": "stream",
     "text": [
      "Mean Absolute Error: 104737.411875\n"
     ]
    }
   ],
   "source": [
    "from sklearn.metrics import mean_absolute_error\n",
    "\n",
    "# Get predictions\n",
    "predictions = my_model.predict(X_valid)\n",
    "print(\"Mean Absolute Error: \" + str(mean_absolute_error(predictions, y_valid)))"
   ]
  },
  {
   "cell_type": "code",
   "execution_count": 30,
   "metadata": {},
   "outputs": [
    {
     "data": {
      "text/plain": [
       "XGBRegressor(base_score=0.5, booster=None, colsample_bylevel=1,\n",
       "             colsample_bynode=1, colsample_bytree=1, gamma=0, gpu_id=-1,\n",
       "             importance_type='gain', interaction_constraints=None,\n",
       "             learning_rate=0.300000012, max_delta_step=0, max_depth=6,\n",
       "             min_child_weight=1, missing=nan, monotone_constraints=None,\n",
       "             n_estimators=500, n_jobs=0, num_parallel_tree=1, random_state=0,\n",
       "             reg_alpha=0, reg_lambda=1, scale_pos_weight=1, subsample=1,\n",
       "             tree_method=None, validate_parameters=False, verbosity=None)"
      ]
     },
     "execution_count": 30,
     "metadata": {},
     "output_type": "execute_result"
    }
   ],
   "source": [
    "#Exploring early_stopping_rounds\n",
    "my_model = XGBRegressor(n_estimators=500)\n",
    "my_model.fit(X_train, y_train, \n",
    "             early_stopping_rounds=5, \n",
    "             eval_set=[(X_valid, y_valid)],\n",
    "             verbose=False)"
   ]
  },
  {
   "cell_type": "code",
   "execution_count": 31,
   "metadata": {},
   "outputs": [
    {
     "name": "stdout",
     "output_type": "stream",
     "text": [
      "Mean Absolute Error: 109534.590625\n"
     ]
    }
   ],
   "source": [
    "# Get predictions\n",
    "predictions = my_model.predict(X_valid)\n",
    "print(\"Mean Absolute Error: \" + str(mean_absolute_error(predictions, y_valid)))"
   ]
  },
  {
   "cell_type": "code",
   "execution_count": 34,
   "metadata": {},
   "outputs": [
    {
     "data": {
      "text/plain": [
       "XGBRegressor(base_score=0.5, booster=None, colsample_bylevel=1,\n",
       "             colsample_bynode=1, colsample_bytree=1, gamma=0, gpu_id=-1,\n",
       "             importance_type='gain', interaction_constraints=None,\n",
       "             learning_rate=0.05, max_delta_step=0, max_depth=6,\n",
       "             min_child_weight=1, missing=nan, monotone_constraints=None,\n",
       "             n_estimators=1000, n_jobs=0, num_parallel_tree=1, random_state=0,\n",
       "             reg_alpha=0, reg_lambda=1, scale_pos_weight=1, subsample=1,\n",
       "             tree_method=None, validate_parameters=False, verbosity=None)"
      ]
     },
     "execution_count": 34,
     "metadata": {},
     "output_type": "execute_result"
    }
   ],
   "source": [
    "#Because a lower learning rate and higher n_estimators is better we set an XGBoost model below .1\n",
    "my_model = XGBRegressor(n_estimators=1000, learning_rate=0.05)\n",
    "my_model.fit(X_train, y_train, \n",
    "             early_stopping_rounds=5, \n",
    "             eval_set=[(X_valid, y_valid)], \n",
    "             verbose=False)"
   ]
  },
  {
   "cell_type": "code",
   "execution_count": 35,
   "metadata": {},
   "outputs": [
    {
     "name": "stdout",
     "output_type": "stream",
     "text": [
      "Mean Absolute Error: 104737.411875\n"
     ]
    }
   ],
   "source": [
    "# Get predictions\n",
    "predictions = my_model.predict(X_valid)\n",
    "print(\"Mean Absolute Error: \" + str(mean_absolute_error(predictions, y_valid)))"
   ]
  },
  {
   "cell_type": "code",
   "execution_count": 38,
   "metadata": {},
   "outputs": [
    {
     "data": {
      "text/plain": [
       "XGBRegressor(base_score=0.5, booster=None, colsample_bylevel=1,\n",
       "             colsample_bynode=1, colsample_bytree=1, gamma=0, gpu_id=-1,\n",
       "             importance_type='gain', interaction_constraints=None,\n",
       "             learning_rate=0.05, max_delta_step=0, max_depth=6,\n",
       "             min_child_weight=1, missing=nan, monotone_constraints=None,\n",
       "             n_estimators=1000, n_jobs=4, num_parallel_tree=1, random_state=0,\n",
       "             reg_alpha=0, reg_lambda=1, scale_pos_weight=1, subsample=1,\n",
       "             tree_method=None, validate_parameters=False, verbosity=None)"
      ]
     },
     "execution_count": 38,
     "metadata": {},
     "output_type": "execute_result"
    }
   ],
   "source": [
    "#n_jobs helps with faster computing with larger datasets\n",
    "#also increased the n_estimators\n",
    "my_model = XGBRegressor(n_estimators=1000, learning_rate=0.05, n_jobs=4)\n",
    "my_model.fit(X_train, y_train, \n",
    "             early_stopping_rounds=5, \n",
    "             eval_set=[(X_valid, y_valid)], \n",
    "             verbose=False)"
   ]
  },
  {
   "cell_type": "code",
   "execution_count": 78,
   "metadata": {},
   "outputs": [
    {
     "name": "stdout",
     "output_type": "stream",
     "text": [
      "Mean Absolute Error: 104737.411875\n"
     ]
    }
   ],
   "source": [
    "# Get predictions\n",
    "predictions = my_model.predict(X_valid)\n",
    "print(\"Mean Absolute Error: \" + str(mean_absolute_error(predictions, y_valid)))"
   ]
  },
  {
   "cell_type": "code",
   "execution_count": 69,
   "metadata": {},
   "outputs": [
    {
     "data": {
      "image/png": "[encoded data removed]",
      "text/plain": [
       "<Figure size 720x720 with 1 Axes>"
      ]
     },
     "metadata": {
      "needs_background": "light"
     },
     "output_type": "display_data"
    }
   ],
   "source": [
    "import matplotlib.pyplot as plt\n",
    "\n",
    "plt.figure(figsize=(10,10))\n",
    "plt.scatter(y_valid, predictions, c='crimson')\n",
    "\n",
    "p1 = max(max(predictions), max(y_valid))\n",
    "p2 = min(min(predictions), min(y_valid))\n",
    "plt.plot([p1, p2], [p1, p2], 'b-')\n",
    "plt.xlabel('True Values', fontsize=15)\n",
    "plt.ylabel('Predictions', fontsize=15)\n",
    "plt.axis('equal')\n",
    "plt.show()"
   ]
  },
  {
   "cell_type": "markdown",
   "metadata": {},
   "source": [
    "Because the models do not change much nor very comprehensive the MAE does not change greatly between each model. However, it is clear how easy it is to build an XGBoost model is and use gradient descent. The graph directly above shows the accuracy of the predictions. The closer the red dots are to the blue line the better. "
   ]
  },
  {
   "cell_type": "code",
   "execution_count": null,
   "metadata": {},
   "outputs": [],
   "source": []
  }
 ],
 "metadata": {
  "kernelspec": {
   "display_name": "Python 3",
   "language": "python",
   "name": "python3"
  },
  "language_info": {
   "codemirror_mode": {
    "name": "ipython",
    "version": 3
   },
   "file_extension": ".py",
   "mimetype": "text/x-python",
   "name": "python",
   "nbconvert_exporter": "python",
   "pygments_lexer": "ipython3",
   "version": "3.8.3"
  }
 },
 "nbformat": 4,
 "nbformat_minor": 4
}
